{
  "nbformat": 4,
  "nbformat_minor": 0,
  "metadata": {
    "colab": {
      "name": "DomainAdaptationMNIST-PyTorch.ipynb",
      "provenance": [],
      "collapsed_sections": [],
      "authorship_tag": "ABX9TyNOrPGL3NkD/pI1Fwl27lYK",
      "include_colab_link": true
    },
    "kernelspec": {
      "name": "python3",
      "display_name": "Python 3"
    },
    "language_info": {
      "name": "python"
    },
    "accelerator": "GPU",
    "widgets": {
      "application/vnd.jupyter.widget-state+json": {
        "47682b80d3184b11bb1168fd95c26382": {
          "model_module": "@jupyter-widgets/controls",
          "model_name": "HBoxModel",
          "model_module_version": "1.5.0",
          "state": {
            "_view_name": "HBoxView",
            "_dom_classes": [],
            "_model_name": "HBoxModel",
            "_view_module": "@jupyter-widgets/controls",
            "_model_module_version": "1.5.0",
            "_view_count": null,
            "_view_module_version": "1.5.0",
            "box_style": "",
            "layout": "IPY_MODEL_a6175bb4ddf14f3489ae9cd560b30e5c",
            "_model_module": "@jupyter-widgets/controls",
            "children": [
              "IPY_MODEL_44ca53afb6254b218325661baf1b5c5f",
              "IPY_MODEL_3b010dc5eeba42ebbd10c3d860e2c868",
              "IPY_MODEL_1035b55d9ccd48658e2a1308fdc806cd"
            ]
          }
        },
        "a6175bb4ddf14f3489ae9cd560b30e5c": {
          "model_module": "@jupyter-widgets/base",
          "model_name": "LayoutModel",
          "model_module_version": "1.2.0",
          "state": {
            "_view_name": "LayoutView",
            "grid_template_rows": null,
            "right": null,
            "justify_content": null,
            "_view_module": "@jupyter-widgets/base",
            "overflow": null,
            "_model_module_version": "1.2.0",
            "_view_count": null,
            "flex_flow": null,
            "width": null,
            "min_width": null,
            "border": null,
            "align_items": null,
            "bottom": null,
            "_model_module": "@jupyter-widgets/base",
            "top": null,
            "grid_column": null,
            "overflow_y": null,
            "overflow_x": null,
            "grid_auto_flow": null,
            "grid_area": null,
            "grid_template_columns": null,
            "flex": null,
            "_model_name": "LayoutModel",
            "justify_items": null,
            "grid_row": null,
            "max_height": null,
            "align_content": null,
            "visibility": null,
            "align_self": null,
            "height": null,
            "min_height": null,
            "padding": null,
            "grid_auto_rows": null,
            "grid_gap": null,
            "max_width": null,
            "order": null,
            "_view_module_version": "1.2.0",
            "grid_template_areas": null,
            "object_position": null,
            "object_fit": null,
            "grid_auto_columns": null,
            "margin": null,
            "display": null,
            "left": null
          }
        },
        "44ca53afb6254b218325661baf1b5c5f": {
          "model_module": "@jupyter-widgets/controls",
          "model_name": "HTMLModel",
          "model_module_version": "1.5.0",
          "state": {
            "_view_name": "HTMLView",
            "style": "IPY_MODEL_aa03350f9ca24bce8f08570f17bb0f76",
            "_dom_classes": [],
            "description": "",
            "_model_name": "HTMLModel",
            "placeholder": "​",
            "_view_module": "@jupyter-widgets/controls",
            "_model_module_version": "1.5.0",
            "value": "",
            "_view_count": null,
            "_view_module_version": "1.5.0",
            "description_tooltip": null,
            "_model_module": "@jupyter-widgets/controls",
            "layout": "IPY_MODEL_9ce2d2b940d344a5b1183867b3e14f47"
          }
        },
        "3b010dc5eeba42ebbd10c3d860e2c868": {
          "model_module": "@jupyter-widgets/controls",
          "model_name": "FloatProgressModel",
          "model_module_version": "1.5.0",
          "state": {
            "_view_name": "ProgressView",
            "style": "IPY_MODEL_67cb2866b4924cd9a3f4aa4ee125d477",
            "_dom_classes": [],
            "description": "",
            "_model_name": "FloatProgressModel",
            "bar_style": "success",
            "max": 9912422,
            "_view_module": "@jupyter-widgets/controls",
            "_model_module_version": "1.5.0",
            "value": 9912422,
            "_view_count": null,
            "_view_module_version": "1.5.0",
            "orientation": "horizontal",
            "min": 0,
            "description_tooltip": null,
            "_model_module": "@jupyter-widgets/controls",
            "layout": "IPY_MODEL_f6cb2e309e2446679e116a72d0d91616"
          }
        },
        "1035b55d9ccd48658e2a1308fdc806cd": {
          "model_module": "@jupyter-widgets/controls",
          "model_name": "HTMLModel",
          "model_module_version": "1.5.0",
          "state": {
            "_view_name": "HTMLView",
            "style": "IPY_MODEL_25c47f34da1441f69636a5d9b544382c",
            "_dom_classes": [],
            "description": "",
            "_model_name": "HTMLModel",
            "placeholder": "​",
            "_view_module": "@jupyter-widgets/controls",
            "_model_module_version": "1.5.0",
            "value": " 9913344/? [00:00&lt;00:00, 53709208.37it/s]",
            "_view_count": null,
            "_view_module_version": "1.5.0",
            "description_tooltip": null,
            "_model_module": "@jupyter-widgets/controls",
            "layout": "IPY_MODEL_897dac7f84384a0c919087056d83bee3"
          }
        },
        "aa03350f9ca24bce8f08570f17bb0f76": {
          "model_module": "@jupyter-widgets/controls",
          "model_name": "DescriptionStyleModel",
          "model_module_version": "1.5.0",
          "state": {
            "_view_name": "StyleView",
            "_model_name": "DescriptionStyleModel",
            "description_width": "",
            "_view_module": "@jupyter-widgets/base",
            "_model_module_version": "1.5.0",
            "_view_count": null,
            "_view_module_version": "1.2.0",
            "_model_module": "@jupyter-widgets/controls"
          }
        },
        "9ce2d2b940d344a5b1183867b3e14f47": {
          "model_module": "@jupyter-widgets/base",
          "model_name": "LayoutModel",
          "model_module_version": "1.2.0",
          "state": {
            "_view_name": "LayoutView",
            "grid_template_rows": null,
            "right": null,
            "justify_content": null,
            "_view_module": "@jupyter-widgets/base",
            "overflow": null,
            "_model_module_version": "1.2.0",
            "_view_count": null,
            "flex_flow": null,
            "width": null,
            "min_width": null,
            "border": null,
            "align_items": null,
            "bottom": null,
            "_model_module": "@jupyter-widgets/base",
            "top": null,
            "grid_column": null,
            "overflow_y": null,
            "overflow_x": null,
            "grid_auto_flow": null,
            "grid_area": null,
            "grid_template_columns": null,
            "flex": null,
            "_model_name": "LayoutModel",
            "justify_items": null,
            "grid_row": null,
            "max_height": null,
            "align_content": null,
            "visibility": null,
            "align_self": null,
            "height": null,
            "min_height": null,
            "padding": null,
            "grid_auto_rows": null,
            "grid_gap": null,
            "max_width": null,
            "order": null,
            "_view_module_version": "1.2.0",
            "grid_template_areas": null,
            "object_position": null,
            "object_fit": null,
            "grid_auto_columns": null,
            "margin": null,
            "display": null,
            "left": null
          }
        },
        "67cb2866b4924cd9a3f4aa4ee125d477": {
          "model_module": "@jupyter-widgets/controls",
          "model_name": "ProgressStyleModel",
          "model_module_version": "1.5.0",
          "state": {
            "_view_name": "StyleView",
            "_model_name": "ProgressStyleModel",
            "description_width": "",
            "_view_module": "@jupyter-widgets/base",
            "_model_module_version": "1.5.0",
            "_view_count": null,
            "_view_module_version": "1.2.0",
            "bar_color": null,
            "_model_module": "@jupyter-widgets/controls"
          }
        },
        "f6cb2e309e2446679e116a72d0d91616": {
          "model_module": "@jupyter-widgets/base",
          "model_name": "LayoutModel",
          "model_module_version": "1.2.0",
          "state": {
            "_view_name": "LayoutView",
            "grid_template_rows": null,
            "right": null,
            "justify_content": null,
            "_view_module": "@jupyter-widgets/base",
            "overflow": null,
            "_model_module_version": "1.2.0",
            "_view_count": null,
            "flex_flow": null,
            "width": null,
            "min_width": null,
            "border": null,
            "align_items": null,
            "bottom": null,
            "_model_module": "@jupyter-widgets/base",
            "top": null,
            "grid_column": null,
            "overflow_y": null,
            "overflow_x": null,
            "grid_auto_flow": null,
            "grid_area": null,
            "grid_template_columns": null,
            "flex": null,
            "_model_name": "LayoutModel",
            "justify_items": null,
            "grid_row": null,
            "max_height": null,
            "align_content": null,
            "visibility": null,
            "align_self": null,
            "height": null,
            "min_height": null,
            "padding": null,
            "grid_auto_rows": null,
            "grid_gap": null,
            "max_width": null,
            "order": null,
            "_view_module_version": "1.2.0",
            "grid_template_areas": null,
            "object_position": null,
            "object_fit": null,
            "grid_auto_columns": null,
            "margin": null,
            "display": null,
            "left": null
          }
        },
        "25c47f34da1441f69636a5d9b544382c": {
          "model_module": "@jupyter-widgets/controls",
          "model_name": "DescriptionStyleModel",
          "model_module_version": "1.5.0",
          "state": {
            "_view_name": "StyleView",
            "_model_name": "DescriptionStyleModel",
            "description_width": "",
            "_view_module": "@jupyter-widgets/base",
            "_model_module_version": "1.5.0",
            "_view_count": null,
            "_view_module_version": "1.2.0",
            "_model_module": "@jupyter-widgets/controls"
          }
        },
        "897dac7f84384a0c919087056d83bee3": {
          "model_module": "@jupyter-widgets/base",
          "model_name": "LayoutModel",
          "model_module_version": "1.2.0",
          "state": {
            "_view_name": "LayoutView",
            "grid_template_rows": null,
            "right": null,
            "justify_content": null,
            "_view_module": "@jupyter-widgets/base",
            "overflow": null,
            "_model_module_version": "1.2.0",
            "_view_count": null,
            "flex_flow": null,
            "width": null,
            "min_width": null,
            "border": null,
            "align_items": null,
            "bottom": null,
            "_model_module": "@jupyter-widgets/base",
            "top": null,
            "grid_column": null,
            "overflow_y": null,
            "overflow_x": null,
            "grid_auto_flow": null,
            "grid_area": null,
            "grid_template_columns": null,
            "flex": null,
            "_model_name": "LayoutModel",
            "justify_items": null,
            "grid_row": null,
            "max_height": null,
            "align_content": null,
            "visibility": null,
            "align_self": null,
            "height": null,
            "min_height": null,
            "padding": null,
            "grid_auto_rows": null,
            "grid_gap": null,
            "max_width": null,
            "order": null,
            "_view_module_version": "1.2.0",
            "grid_template_areas": null,
            "object_position": null,
            "object_fit": null,
            "grid_auto_columns": null,
            "margin": null,
            "display": null,
            "left": null
          }
        },
        "63525ad691174854b5bda276e242f9dc": {
          "model_module": "@jupyter-widgets/controls",
          "model_name": "HBoxModel",
          "model_module_version": "1.5.0",
          "state": {
            "_view_name": "HBoxView",
            "_dom_classes": [],
            "_model_name": "HBoxModel",
            "_view_module": "@jupyter-widgets/controls",
            "_model_module_version": "1.5.0",
            "_view_count": null,
            "_view_module_version": "1.5.0",
            "box_style": "",
            "layout": "IPY_MODEL_2c2fe172854640e19e480efb42825ff5",
            "_model_module": "@jupyter-widgets/controls",
            "children": [
              "IPY_MODEL_29210fe47f344e1e8279d619ef554647",
              "IPY_MODEL_88c12505edc9435f8cfbcc5dd5afed20",
              "IPY_MODEL_b78c7a0d9ef8434cad7b40a9b0da0a0f"
            ]
          }
        },
        "2c2fe172854640e19e480efb42825ff5": {
          "model_module": "@jupyter-widgets/base",
          "model_name": "LayoutModel",
          "model_module_version": "1.2.0",
          "state": {
            "_view_name": "LayoutView",
            "grid_template_rows": null,
            "right": null,
            "justify_content": null,
            "_view_module": "@jupyter-widgets/base",
            "overflow": null,
            "_model_module_version": "1.2.0",
            "_view_count": null,
            "flex_flow": null,
            "width": null,
            "min_width": null,
            "border": null,
            "align_items": null,
            "bottom": null,
            "_model_module": "@jupyter-widgets/base",
            "top": null,
            "grid_column": null,
            "overflow_y": null,
            "overflow_x": null,
            "grid_auto_flow": null,
            "grid_area": null,
            "grid_template_columns": null,
            "flex": null,
            "_model_name": "LayoutModel",
            "justify_items": null,
            "grid_row": null,
            "max_height": null,
            "align_content": null,
            "visibility": null,
            "align_self": null,
            "height": null,
            "min_height": null,
            "padding": null,
            "grid_auto_rows": null,
            "grid_gap": null,
            "max_width": null,
            "order": null,
            "_view_module_version": "1.2.0",
            "grid_template_areas": null,
            "object_position": null,
            "object_fit": null,
            "grid_auto_columns": null,
            "margin": null,
            "display": null,
            "left": null
          }
        },
        "29210fe47f344e1e8279d619ef554647": {
          "model_module": "@jupyter-widgets/controls",
          "model_name": "HTMLModel",
          "model_module_version": "1.5.0",
          "state": {
            "_view_name": "HTMLView",
            "style": "IPY_MODEL_b5d5f087864f41c8a5bec1735209ed05",
            "_dom_classes": [],
            "description": "",
            "_model_name": "HTMLModel",
            "placeholder": "​",
            "_view_module": "@jupyter-widgets/controls",
            "_model_module_version": "1.5.0",
            "value": "",
            "_view_count": null,
            "_view_module_version": "1.5.0",
            "description_tooltip": null,
            "_model_module": "@jupyter-widgets/controls",
            "layout": "IPY_MODEL_48acd8ff3698414eb15ee73ae59e74ea"
          }
        },
        "88c12505edc9435f8cfbcc5dd5afed20": {
          "model_module": "@jupyter-widgets/controls",
          "model_name": "FloatProgressModel",
          "model_module_version": "1.5.0",
          "state": {
            "_view_name": "ProgressView",
            "style": "IPY_MODEL_854a9632c11a4c5dacab839ae8a6ccb0",
            "_dom_classes": [],
            "description": "",
            "_model_name": "FloatProgressModel",
            "bar_style": "success",
            "max": 28881,
            "_view_module": "@jupyter-widgets/controls",
            "_model_module_version": "1.5.0",
            "value": 28881,
            "_view_count": null,
            "_view_module_version": "1.5.0",
            "orientation": "horizontal",
            "min": 0,
            "description_tooltip": null,
            "_model_module": "@jupyter-widgets/controls",
            "layout": "IPY_MODEL_07b55ad50ee546e4aa67eca3c96f8cb9"
          }
        },
        "b78c7a0d9ef8434cad7b40a9b0da0a0f": {
          "model_module": "@jupyter-widgets/controls",
          "model_name": "HTMLModel",
          "model_module_version": "1.5.0",
          "state": {
            "_view_name": "HTMLView",
            "style": "IPY_MODEL_01a236d250824c62a58badafd564081f",
            "_dom_classes": [],
            "description": "",
            "_model_name": "HTMLModel",
            "placeholder": "​",
            "_view_module": "@jupyter-widgets/controls",
            "_model_module_version": "1.5.0",
            "value": " 29696/? [00:00&lt;00:00, 728931.90it/s]",
            "_view_count": null,
            "_view_module_version": "1.5.0",
            "description_tooltip": null,
            "_model_module": "@jupyter-widgets/controls",
            "layout": "IPY_MODEL_d67815efb9a84fa09f09489d2e1fbb42"
          }
        },
        "b5d5f087864f41c8a5bec1735209ed05": {
          "model_module": "@jupyter-widgets/controls",
          "model_name": "DescriptionStyleModel",
          "model_module_version": "1.5.0",
          "state": {
            "_view_name": "StyleView",
            "_model_name": "DescriptionStyleModel",
            "description_width": "",
            "_view_module": "@jupyter-widgets/base",
            "_model_module_version": "1.5.0",
            "_view_count": null,
            "_view_module_version": "1.2.0",
            "_model_module": "@jupyter-widgets/controls"
          }
        },
        "48acd8ff3698414eb15ee73ae59e74ea": {
          "model_module": "@jupyter-widgets/base",
          "model_name": "LayoutModel",
          "model_module_version": "1.2.0",
          "state": {
            "_view_name": "LayoutView",
            "grid_template_rows": null,
            "right": null,
            "justify_content": null,
            "_view_module": "@jupyter-widgets/base",
            "overflow": null,
            "_model_module_version": "1.2.0",
            "_view_count": null,
            "flex_flow": null,
            "width": null,
            "min_width": null,
            "border": null,
            "align_items": null,
            "bottom": null,
            "_model_module": "@jupyter-widgets/base",
            "top": null,
            "grid_column": null,
            "overflow_y": null,
            "overflow_x": null,
            "grid_auto_flow": null,
            "grid_area": null,
            "grid_template_columns": null,
            "flex": null,
            "_model_name": "LayoutModel",
            "justify_items": null,
            "grid_row": null,
            "max_height": null,
            "align_content": null,
            "visibility": null,
            "align_self": null,
            "height": null,
            "min_height": null,
            "padding": null,
            "grid_auto_rows": null,
            "grid_gap": null,
            "max_width": null,
            "order": null,
            "_view_module_version": "1.2.0",
            "grid_template_areas": null,
            "object_position": null,
            "object_fit": null,
            "grid_auto_columns": null,
            "margin": null,
            "display": null,
            "left": null
          }
        },
        "854a9632c11a4c5dacab839ae8a6ccb0": {
          "model_module": "@jupyter-widgets/controls",
          "model_name": "ProgressStyleModel",
          "model_module_version": "1.5.0",
          "state": {
            "_view_name": "StyleView",
            "_model_name": "ProgressStyleModel",
            "description_width": "",
            "_view_module": "@jupyter-widgets/base",
            "_model_module_version": "1.5.0",
            "_view_count": null,
            "_view_module_version": "1.2.0",
            "bar_color": null,
            "_model_module": "@jupyter-widgets/controls"
          }
        },
        "07b55ad50ee546e4aa67eca3c96f8cb9": {
          "model_module": "@jupyter-widgets/base",
          "model_name": "LayoutModel",
          "model_module_version": "1.2.0",
          "state": {
            "_view_name": "LayoutView",
            "grid_template_rows": null,
            "right": null,
            "justify_content": null,
            "_view_module": "@jupyter-widgets/base",
            "overflow": null,
            "_model_module_version": "1.2.0",
            "_view_count": null,
            "flex_flow": null,
            "width": null,
            "min_width": null,
            "border": null,
            "align_items": null,
            "bottom": null,
            "_model_module": "@jupyter-widgets/base",
            "top": null,
            "grid_column": null,
            "overflow_y": null,
            "overflow_x": null,
            "grid_auto_flow": null,
            "grid_area": null,
            "grid_template_columns": null,
            "flex": null,
            "_model_name": "LayoutModel",
            "justify_items": null,
            "grid_row": null,
            "max_height": null,
            "align_content": null,
            "visibility": null,
            "align_self": null,
            "height": null,
            "min_height": null,
            "padding": null,
            "grid_auto_rows": null,
            "grid_gap": null,
            "max_width": null,
            "order": null,
            "_view_module_version": "1.2.0",
            "grid_template_areas": null,
            "object_position": null,
            "object_fit": null,
            "grid_auto_columns": null,
            "margin": null,
            "display": null,
            "left": null
          }
        },
        "01a236d250824c62a58badafd564081f": {
          "model_module": "@jupyter-widgets/controls",
          "model_name": "DescriptionStyleModel",
          "model_module_version": "1.5.0",
          "state": {
            "_view_name": "StyleView",
            "_model_name": "DescriptionStyleModel",
            "description_width": "",
            "_view_module": "@jupyter-widgets/base",
            "_model_module_version": "1.5.0",
            "_view_count": null,
            "_view_module_version": "1.2.0",
            "_model_module": "@jupyter-widgets/controls"
          }
        },
        "d67815efb9a84fa09f09489d2e1fbb42": {
          "model_module": "@jupyter-widgets/base",
          "model_name": "LayoutModel",
          "model_module_version": "1.2.0",
          "state": {
            "_view_name": "LayoutView",
            "grid_template_rows": null,
            "right": null,
            "justify_content": null,
            "_view_module": "@jupyter-widgets/base",
            "overflow": null,
            "_model_module_version": "1.2.0",
            "_view_count": null,
            "flex_flow": null,
            "width": null,
            "min_width": null,
            "border": null,
            "align_items": null,
            "bottom": null,
            "_model_module": "@jupyter-widgets/base",
            "top": null,
            "grid_column": null,
            "overflow_y": null,
            "overflow_x": null,
            "grid_auto_flow": null,
            "grid_area": null,
            "grid_template_columns": null,
            "flex": null,
            "_model_name": "LayoutModel",
            "justify_items": null,
            "grid_row": null,
            "max_height": null,
            "align_content": null,
            "visibility": null,
            "align_self": null,
            "height": null,
            "min_height": null,
            "padding": null,
            "grid_auto_rows": null,
            "grid_gap": null,
            "max_width": null,
            "order": null,
            "_view_module_version": "1.2.0",
            "grid_template_areas": null,
            "object_position": null,
            "object_fit": null,
            "grid_auto_columns": null,
            "margin": null,
            "display": null,
            "left": null
          }
        },
        "f791fc0cd8b545d8a5ef30dcfe2a7fc8": {
          "model_module": "@jupyter-widgets/controls",
          "model_name": "HBoxModel",
          "model_module_version": "1.5.0",
          "state": {
            "_view_name": "HBoxView",
            "_dom_classes": [],
            "_model_name": "HBoxModel",
            "_view_module": "@jupyter-widgets/controls",
            "_model_module_version": "1.5.0",
            "_view_count": null,
            "_view_module_version": "1.5.0",
            "box_style": "",
            "layout": "IPY_MODEL_2663f7ad95c44b5d9603a3c5592410d7",
            "_model_module": "@jupyter-widgets/controls",
            "children": [
              "IPY_MODEL_2c2ea0fb1f8e485e87acf4e366579eb6",
              "IPY_MODEL_4ad4503562b147d3b210488bb9f12d7f",
              "IPY_MODEL_4940cd40a2394140b353594d6c155673"
            ]
          }
        },
        "2663f7ad95c44b5d9603a3c5592410d7": {
          "model_module": "@jupyter-widgets/base",
          "model_name": "LayoutModel",
          "model_module_version": "1.2.0",
          "state": {
            "_view_name": "LayoutView",
            "grid_template_rows": null,
            "right": null,
            "justify_content": null,
            "_view_module": "@jupyter-widgets/base",
            "overflow": null,
            "_model_module_version": "1.2.0",
            "_view_count": null,
            "flex_flow": null,
            "width": null,
            "min_width": null,
            "border": null,
            "align_items": null,
            "bottom": null,
            "_model_module": "@jupyter-widgets/base",
            "top": null,
            "grid_column": null,
            "overflow_y": null,
            "overflow_x": null,
            "grid_auto_flow": null,
            "grid_area": null,
            "grid_template_columns": null,
            "flex": null,
            "_model_name": "LayoutModel",
            "justify_items": null,
            "grid_row": null,
            "max_height": null,
            "align_content": null,
            "visibility": null,
            "align_self": null,
            "height": null,
            "min_height": null,
            "padding": null,
            "grid_auto_rows": null,
            "grid_gap": null,
            "max_width": null,
            "order": null,
            "_view_module_version": "1.2.0",
            "grid_template_areas": null,
            "object_position": null,
            "object_fit": null,
            "grid_auto_columns": null,
            "margin": null,
            "display": null,
            "left": null
          }
        },
        "2c2ea0fb1f8e485e87acf4e366579eb6": {
          "model_module": "@jupyter-widgets/controls",
          "model_name": "HTMLModel",
          "model_module_version": "1.5.0",
          "state": {
            "_view_name": "HTMLView",
            "style": "IPY_MODEL_8b2e8fedf77546498862b07e4d1c3539",
            "_dom_classes": [],
            "description": "",
            "_model_name": "HTMLModel",
            "placeholder": "​",
            "_view_module": "@jupyter-widgets/controls",
            "_model_module_version": "1.5.0",
            "value": "",
            "_view_count": null,
            "_view_module_version": "1.5.0",
            "description_tooltip": null,
            "_model_module": "@jupyter-widgets/controls",
            "layout": "IPY_MODEL_c07f6dc9a844479ab190c30a86b41ef9"
          }
        },
        "4ad4503562b147d3b210488bb9f12d7f": {
          "model_module": "@jupyter-widgets/controls",
          "model_name": "FloatProgressModel",
          "model_module_version": "1.5.0",
          "state": {
            "_view_name": "ProgressView",
            "style": "IPY_MODEL_08a33b6b67ee491089928108cfff02f0",
            "_dom_classes": [],
            "description": "",
            "_model_name": "FloatProgressModel",
            "bar_style": "success",
            "max": 1648877,
            "_view_module": "@jupyter-widgets/controls",
            "_model_module_version": "1.5.0",
            "value": 1648877,
            "_view_count": null,
            "_view_module_version": "1.5.0",
            "orientation": "horizontal",
            "min": 0,
            "description_tooltip": null,
            "_model_module": "@jupyter-widgets/controls",
            "layout": "IPY_MODEL_8bbe916c824d4ded84acb0dcf96349d7"
          }
        },
        "4940cd40a2394140b353594d6c155673": {
          "model_module": "@jupyter-widgets/controls",
          "model_name": "HTMLModel",
          "model_module_version": "1.5.0",
          "state": {
            "_view_name": "HTMLView",
            "style": "IPY_MODEL_a653189b9ab440c6a81ea56402ece3c3",
            "_dom_classes": [],
            "description": "",
            "_model_name": "HTMLModel",
            "placeholder": "​",
            "_view_module": "@jupyter-widgets/controls",
            "_model_module_version": "1.5.0",
            "value": " 1649664/? [00:00&lt;00:00, 17691483.61it/s]",
            "_view_count": null,
            "_view_module_version": "1.5.0",
            "description_tooltip": null,
            "_model_module": "@jupyter-widgets/controls",
            "layout": "IPY_MODEL_e5b2cc44beba4680881b7b0a1f3e3246"
          }
        },
        "8b2e8fedf77546498862b07e4d1c3539": {
          "model_module": "@jupyter-widgets/controls",
          "model_name": "DescriptionStyleModel",
          "model_module_version": "1.5.0",
          "state": {
            "_view_name": "StyleView",
            "_model_name": "DescriptionStyleModel",
            "description_width": "",
            "_view_module": "@jupyter-widgets/base",
            "_model_module_version": "1.5.0",
            "_view_count": null,
            "_view_module_version": "1.2.0",
            "_model_module": "@jupyter-widgets/controls"
          }
        },
        "c07f6dc9a844479ab190c30a86b41ef9": {
          "model_module": "@jupyter-widgets/base",
          "model_name": "LayoutModel",
          "model_module_version": "1.2.0",
          "state": {
            "_view_name": "LayoutView",
            "grid_template_rows": null,
            "right": null,
            "justify_content": null,
            "_view_module": "@jupyter-widgets/base",
            "overflow": null,
            "_model_module_version": "1.2.0",
            "_view_count": null,
            "flex_flow": null,
            "width": null,
            "min_width": null,
            "border": null,
            "align_items": null,
            "bottom": null,
            "_model_module": "@jupyter-widgets/base",
            "top": null,
            "grid_column": null,
            "overflow_y": null,
            "overflow_x": null,
            "grid_auto_flow": null,
            "grid_area": null,
            "grid_template_columns": null,
            "flex": null,
            "_model_name": "LayoutModel",
            "justify_items": null,
            "grid_row": null,
            "max_height": null,
            "align_content": null,
            "visibility": null,
            "align_self": null,
            "height": null,
            "min_height": null,
            "padding": null,
            "grid_auto_rows": null,
            "grid_gap": null,
            "max_width": null,
            "order": null,
            "_view_module_version": "1.2.0",
            "grid_template_areas": null,
            "object_position": null,
            "object_fit": null,
            "grid_auto_columns": null,
            "margin": null,
            "display": null,
            "left": null
          }
        },
        "08a33b6b67ee491089928108cfff02f0": {
          "model_module": "@jupyter-widgets/controls",
          "model_name": "ProgressStyleModel",
          "model_module_version": "1.5.0",
          "state": {
            "_view_name": "StyleView",
            "_model_name": "ProgressStyleModel",
            "description_width": "",
            "_view_module": "@jupyter-widgets/base",
            "_model_module_version": "1.5.0",
            "_view_count": null,
            "_view_module_version": "1.2.0",
            "bar_color": null,
            "_model_module": "@jupyter-widgets/controls"
          }
        },
        "8bbe916c824d4ded84acb0dcf96349d7": {
          "model_module": "@jupyter-widgets/base",
          "model_name": "LayoutModel",
          "model_module_version": "1.2.0",
          "state": {
            "_view_name": "LayoutView",
            "grid_template_rows": null,
            "right": null,
            "justify_content": null,
            "_view_module": "@jupyter-widgets/base",
            "overflow": null,
            "_model_module_version": "1.2.0",
            "_view_count": null,
            "flex_flow": null,
            "width": null,
            "min_width": null,
            "border": null,
            "align_items": null,
            "bottom": null,
            "_model_module": "@jupyter-widgets/base",
            "top": null,
            "grid_column": null,
            "overflow_y": null,
            "overflow_x": null,
            "grid_auto_flow": null,
            "grid_area": null,
            "grid_template_columns": null,
            "flex": null,
            "_model_name": "LayoutModel",
            "justify_items": null,
            "grid_row": null,
            "max_height": null,
            "align_content": null,
            "visibility": null,
            "align_self": null,
            "height": null,
            "min_height": null,
            "padding": null,
            "grid_auto_rows": null,
            "grid_gap": null,
            "max_width": null,
            "order": null,
            "_view_module_version": "1.2.0",
            "grid_template_areas": null,
            "object_position": null,
            "object_fit": null,
            "grid_auto_columns": null,
            "margin": null,
            "display": null,
            "left": null
          }
        },
        "a653189b9ab440c6a81ea56402ece3c3": {
          "model_module": "@jupyter-widgets/controls",
          "model_name": "DescriptionStyleModel",
          "model_module_version": "1.5.0",
          "state": {
            "_view_name": "StyleView",
            "_model_name": "DescriptionStyleModel",
            "description_width": "",
            "_view_module": "@jupyter-widgets/base",
            "_model_module_version": "1.5.0",
            "_view_count": null,
            "_view_module_version": "1.2.0",
            "_model_module": "@jupyter-widgets/controls"
          }
        },
        "e5b2cc44beba4680881b7b0a1f3e3246": {
          "model_module": "@jupyter-widgets/base",
          "model_name": "LayoutModel",
          "model_module_version": "1.2.0",
          "state": {
            "_view_name": "LayoutView",
            "grid_template_rows": null,
            "right": null,
            "justify_content": null,
            "_view_module": "@jupyter-widgets/base",
            "overflow": null,
            "_model_module_version": "1.2.0",
            "_view_count": null,
            "flex_flow": null,
            "width": null,
            "min_width": null,
            "border": null,
            "align_items": null,
            "bottom": null,
            "_model_module": "@jupyter-widgets/base",
            "top": null,
            "grid_column": null,
            "overflow_y": null,
            "overflow_x": null,
            "grid_auto_flow": null,
            "grid_area": null,
            "grid_template_columns": null,
            "flex": null,
            "_model_name": "LayoutModel",
            "justify_items": null,
            "grid_row": null,
            "max_height": null,
            "align_content": null,
            "visibility": null,
            "align_self": null,
            "height": null,
            "min_height": null,
            "padding": null,
            "grid_auto_rows": null,
            "grid_gap": null,
            "max_width": null,
            "order": null,
            "_view_module_version": "1.2.0",
            "grid_template_areas": null,
            "object_position": null,
            "object_fit": null,
            "grid_auto_columns": null,
            "margin": null,
            "display": null,
            "left": null
          }
        },
        "593c4b26179940e086721ddb58c464b7": {
          "model_module": "@jupyter-widgets/controls",
          "model_name": "HBoxModel",
          "model_module_version": "1.5.0",
          "state": {
            "_view_name": "HBoxView",
            "_dom_classes": [],
            "_model_name": "HBoxModel",
            "_view_module": "@jupyter-widgets/controls",
            "_model_module_version": "1.5.0",
            "_view_count": null,
            "_view_module_version": "1.5.0",
            "box_style": "",
            "layout": "IPY_MODEL_c1ee060a9e584f3081bbfa5b0307e8b2",
            "_model_module": "@jupyter-widgets/controls",
            "children": [
              "IPY_MODEL_afc7f402918441cda3f9f250cb478d63",
              "IPY_MODEL_3bbced53b37d4c5a863e01cdde2f72ab",
              "IPY_MODEL_4b926e5ad45d414687c49cc552ed5350"
            ]
          }
        },
        "c1ee060a9e584f3081bbfa5b0307e8b2": {
          "model_module": "@jupyter-widgets/base",
          "model_name": "LayoutModel",
          "model_module_version": "1.2.0",
          "state": {
            "_view_name": "LayoutView",
            "grid_template_rows": null,
            "right": null,
            "justify_content": null,
            "_view_module": "@jupyter-widgets/base",
            "overflow": null,
            "_model_module_version": "1.2.0",
            "_view_count": null,
            "flex_flow": null,
            "width": null,
            "min_width": null,
            "border": null,
            "align_items": null,
            "bottom": null,
            "_model_module": "@jupyter-widgets/base",
            "top": null,
            "grid_column": null,
            "overflow_y": null,
            "overflow_x": null,
            "grid_auto_flow": null,
            "grid_area": null,
            "grid_template_columns": null,
            "flex": null,
            "_model_name": "LayoutModel",
            "justify_items": null,
            "grid_row": null,
            "max_height": null,
            "align_content": null,
            "visibility": null,
            "align_self": null,
            "height": null,
            "min_height": null,
            "padding": null,
            "grid_auto_rows": null,
            "grid_gap": null,
            "max_width": null,
            "order": null,
            "_view_module_version": "1.2.0",
            "grid_template_areas": null,
            "object_position": null,
            "object_fit": null,
            "grid_auto_columns": null,
            "margin": null,
            "display": null,
            "left": null
          }
        },
        "afc7f402918441cda3f9f250cb478d63": {
          "model_module": "@jupyter-widgets/controls",
          "model_name": "HTMLModel",
          "model_module_version": "1.5.0",
          "state": {
            "_view_name": "HTMLView",
            "style": "IPY_MODEL_4c20f9de7cc147cf8098e36ed9388971",
            "_dom_classes": [],
            "description": "",
            "_model_name": "HTMLModel",
            "placeholder": "​",
            "_view_module": "@jupyter-widgets/controls",
            "_model_module_version": "1.5.0",
            "value": "",
            "_view_count": null,
            "_view_module_version": "1.5.0",
            "description_tooltip": null,
            "_model_module": "@jupyter-widgets/controls",
            "layout": "IPY_MODEL_7232b266c8344a69a2efaca05ef69180"
          }
        },
        "3bbced53b37d4c5a863e01cdde2f72ab": {
          "model_module": "@jupyter-widgets/controls",
          "model_name": "FloatProgressModel",
          "model_module_version": "1.5.0",
          "state": {
            "_view_name": "ProgressView",
            "style": "IPY_MODEL_3464358391c447d5be24aa452df1d184",
            "_dom_classes": [],
            "description": "",
            "_model_name": "FloatProgressModel",
            "bar_style": "success",
            "max": 4542,
            "_view_module": "@jupyter-widgets/controls",
            "_model_module_version": "1.5.0",
            "value": 4542,
            "_view_count": null,
            "_view_module_version": "1.5.0",
            "orientation": "horizontal",
            "min": 0,
            "description_tooltip": null,
            "_model_module": "@jupyter-widgets/controls",
            "layout": "IPY_MODEL_50378e6fe2434fb892ad11c9b394811f"
          }
        },
        "4b926e5ad45d414687c49cc552ed5350": {
          "model_module": "@jupyter-widgets/controls",
          "model_name": "HTMLModel",
          "model_module_version": "1.5.0",
          "state": {
            "_view_name": "HTMLView",
            "style": "IPY_MODEL_5732c6eaa84842a2adb454e884c0ddcd",
            "_dom_classes": [],
            "description": "",
            "_model_name": "HTMLModel",
            "placeholder": "​",
            "_view_module": "@jupyter-widgets/controls",
            "_model_module_version": "1.5.0",
            "value": " 5120/? [00:00&lt;00:00, 82885.62it/s]",
            "_view_count": null,
            "_view_module_version": "1.5.0",
            "description_tooltip": null,
            "_model_module": "@jupyter-widgets/controls",
            "layout": "IPY_MODEL_5a05b343f44c41a5a2de4780cc3404f2"
          }
        },
        "4c20f9de7cc147cf8098e36ed9388971": {
          "model_module": "@jupyter-widgets/controls",
          "model_name": "DescriptionStyleModel",
          "model_module_version": "1.5.0",
          "state": {
            "_view_name": "StyleView",
            "_model_name": "DescriptionStyleModel",
            "description_width": "",
            "_view_module": "@jupyter-widgets/base",
            "_model_module_version": "1.5.0",
            "_view_count": null,
            "_view_module_version": "1.2.0",
            "_model_module": "@jupyter-widgets/controls"
          }
        },
        "7232b266c8344a69a2efaca05ef69180": {
          "model_module": "@jupyter-widgets/base",
          "model_name": "LayoutModel",
          "model_module_version": "1.2.0",
          "state": {
            "_view_name": "LayoutView",
            "grid_template_rows": null,
            "right": null,
            "justify_content": null,
            "_view_module": "@jupyter-widgets/base",
            "overflow": null,
            "_model_module_version": "1.2.0",
            "_view_count": null,
            "flex_flow": null,
            "width": null,
            "min_width": null,
            "border": null,
            "align_items": null,
            "bottom": null,
            "_model_module": "@jupyter-widgets/base",
            "top": null,
            "grid_column": null,
            "overflow_y": null,
            "overflow_x": null,
            "grid_auto_flow": null,
            "grid_area": null,
            "grid_template_columns": null,
            "flex": null,
            "_model_name": "LayoutModel",
            "justify_items": null,
            "grid_row": null,
            "max_height": null,
            "align_content": null,
            "visibility": null,
            "align_self": null,
            "height": null,
            "min_height": null,
            "padding": null,
            "grid_auto_rows": null,
            "grid_gap": null,
            "max_width": null,
            "order": null,
            "_view_module_version": "1.2.0",
            "grid_template_areas": null,
            "object_position": null,
            "object_fit": null,
            "grid_auto_columns": null,
            "margin": null,
            "display": null,
            "left": null
          }
        },
        "3464358391c447d5be24aa452df1d184": {
          "model_module": "@jupyter-widgets/controls",
          "model_name": "ProgressStyleModel",
          "model_module_version": "1.5.0",
          "state": {
            "_view_name": "StyleView",
            "_model_name": "ProgressStyleModel",
            "description_width": "",
            "_view_module": "@jupyter-widgets/base",
            "_model_module_version": "1.5.0",
            "_view_count": null,
            "_view_module_version": "1.2.0",
            "bar_color": null,
            "_model_module": "@jupyter-widgets/controls"
          }
        },
        "50378e6fe2434fb892ad11c9b394811f": {
          "model_module": "@jupyter-widgets/base",
          "model_name": "LayoutModel",
          "model_module_version": "1.2.0",
          "state": {
            "_view_name": "LayoutView",
            "grid_template_rows": null,
            "right": null,
            "justify_content": null,
            "_view_module": "@jupyter-widgets/base",
            "overflow": null,
            "_model_module_version": "1.2.0",
            "_view_count": null,
            "flex_flow": null,
            "width": null,
            "min_width": null,
            "border": null,
            "align_items": null,
            "bottom": null,
            "_model_module": "@jupyter-widgets/base",
            "top": null,
            "grid_column": null,
            "overflow_y": null,
            "overflow_x": null,
            "grid_auto_flow": null,
            "grid_area": null,
            "grid_template_columns": null,
            "flex": null,
            "_model_name": "LayoutModel",
            "justify_items": null,
            "grid_row": null,
            "max_height": null,
            "align_content": null,
            "visibility": null,
            "align_self": null,
            "height": null,
            "min_height": null,
            "padding": null,
            "grid_auto_rows": null,
            "grid_gap": null,
            "max_width": null,
            "order": null,
            "_view_module_version": "1.2.0",
            "grid_template_areas": null,
            "object_position": null,
            "object_fit": null,
            "grid_auto_columns": null,
            "margin": null,
            "display": null,
            "left": null
          }
        },
        "5732c6eaa84842a2adb454e884c0ddcd": {
          "model_module": "@jupyter-widgets/controls",
          "model_name": "DescriptionStyleModel",
          "model_module_version": "1.5.0",
          "state": {
            "_view_name": "StyleView",
            "_model_name": "DescriptionStyleModel",
            "description_width": "",
            "_view_module": "@jupyter-widgets/base",
            "_model_module_version": "1.5.0",
            "_view_count": null,
            "_view_module_version": "1.2.0",
            "_model_module": "@jupyter-widgets/controls"
          }
        },
        "5a05b343f44c41a5a2de4780cc3404f2": {
          "model_module": "@jupyter-widgets/base",
          "model_name": "LayoutModel",
          "model_module_version": "1.2.0",
          "state": {
            "_view_name": "LayoutView",
            "grid_template_rows": null,
            "right": null,
            "justify_content": null,
            "_view_module": "@jupyter-widgets/base",
            "overflow": null,
            "_model_module_version": "1.2.0",
            "_view_count": null,
            "flex_flow": null,
            "width": null,
            "min_width": null,
            "border": null,
            "align_items": null,
            "bottom": null,
            "_model_module": "@jupyter-widgets/base",
            "top": null,
            "grid_column": null,
            "overflow_y": null,
            "overflow_x": null,
            "grid_auto_flow": null,
            "grid_area": null,
            "grid_template_columns": null,
            "flex": null,
            "_model_name": "LayoutModel",
            "justify_items": null,
            "grid_row": null,
            "max_height": null,
            "align_content": null,
            "visibility": null,
            "align_self": null,
            "height": null,
            "min_height": null,
            "padding": null,
            "grid_auto_rows": null,
            "grid_gap": null,
            "max_width": null,
            "order": null,
            "_view_module_version": "1.2.0",
            "grid_template_areas": null,
            "object_position": null,
            "object_fit": null,
            "grid_auto_columns": null,
            "margin": null,
            "display": null,
            "left": null
          }
        }
      }
    }
  },
  "cells": [
    {
      "cell_type": "markdown",
      "metadata": {
        "id": "view-in-github",
        "colab_type": "text"
      },
      "source": [
        "<a href=\"https://colab.research.google.com/github/NilakshanKunananthaseelan/MachineLearning/blob/main/DANN/DomainAdaptationMNIST_PyTorch.ipynb\" target=\"_parent\"><img src=\"https://colab.research.google.com/assets/colab-badge.svg\" alt=\"Open In Colab\"/></a>"
      ]
    },
    {
      "cell_type": "code",
      "execution_count": 1,
      "metadata": {
        "id": "UAGLZ4-gqIpJ"
      },
      "outputs": [],
      "source": [
        "import numpy as np\n",
        "import torch\n",
        "import torch.nn as nn\n",
        "import torchvision\n",
        "import torchvision.datasets as datasets\n",
        "from torchvision.transforms import ToTensor\n",
        "from torch.utils.data import DataLoader\n",
        "from torch import optim\n",
        "\n",
        "import matplotlib.pyplot as plt\n",
        "\n",
        "device = 'cuda' if torch.cuda.is_available() else 'cpu' \n"
      ]
    },
    {
      "cell_type": "markdown",
      "source": [
        "# Load mnist"
      ],
      "metadata": {
        "id": "lS34m0Oc1yUD"
      }
    },
    {
      "cell_type": "code",
      "source": [
        "from torchvision import transforms\n",
        "train_data = datasets.MNIST(\n",
        "    root = 'data',\n",
        "    train = True,                         \n",
        "    transform = transforms.Compose([\n",
        "                transforms.ToTensor(), \n",
        "                transforms.Lambda(lambda x: torch.cat([x, x, x], 0)),\n",
        "               \n",
        "                 ]), \n",
        "    download = True,            \n",
        ")\n",
        "test_data = datasets.MNIST(\n",
        "    root = 'data', \n",
        "    train = False, \n",
        "    transform = transforms.Compose([\n",
        "                transforms.ToTensor(), \n",
        "                transforms.Lambda(lambda x: torch.cat([x, x, x], 0)),\n",
        "               \n",
        "                 ]), \n",
        ")\n",
        "\n",
        "\n"
      ],
      "metadata": {
        "colab": {
          "base_uri": "https://localhost:8080/",
          "height": 423,
          "referenced_widgets": [
            "47682b80d3184b11bb1168fd95c26382",
            "a6175bb4ddf14f3489ae9cd560b30e5c",
            "44ca53afb6254b218325661baf1b5c5f",
            "3b010dc5eeba42ebbd10c3d860e2c868",
            "1035b55d9ccd48658e2a1308fdc806cd",
            "aa03350f9ca24bce8f08570f17bb0f76",
            "9ce2d2b940d344a5b1183867b3e14f47",
            "67cb2866b4924cd9a3f4aa4ee125d477",
            "f6cb2e309e2446679e116a72d0d91616",
            "25c47f34da1441f69636a5d9b544382c",
            "897dac7f84384a0c919087056d83bee3",
            "63525ad691174854b5bda276e242f9dc",
            "2c2fe172854640e19e480efb42825ff5",
            "29210fe47f344e1e8279d619ef554647",
            "88c12505edc9435f8cfbcc5dd5afed20",
            "b78c7a0d9ef8434cad7b40a9b0da0a0f",
            "b5d5f087864f41c8a5bec1735209ed05",
            "48acd8ff3698414eb15ee73ae59e74ea",
            "854a9632c11a4c5dacab839ae8a6ccb0",
            "07b55ad50ee546e4aa67eca3c96f8cb9",
            "01a236d250824c62a58badafd564081f",
            "d67815efb9a84fa09f09489d2e1fbb42",
            "f791fc0cd8b545d8a5ef30dcfe2a7fc8",
            "2663f7ad95c44b5d9603a3c5592410d7",
            "2c2ea0fb1f8e485e87acf4e366579eb6",
            "4ad4503562b147d3b210488bb9f12d7f",
            "4940cd40a2394140b353594d6c155673",
            "8b2e8fedf77546498862b07e4d1c3539",
            "c07f6dc9a844479ab190c30a86b41ef9",
            "08a33b6b67ee491089928108cfff02f0",
            "8bbe916c824d4ded84acb0dcf96349d7",
            "a653189b9ab440c6a81ea56402ece3c3",
            "e5b2cc44beba4680881b7b0a1f3e3246",
            "593c4b26179940e086721ddb58c464b7",
            "c1ee060a9e584f3081bbfa5b0307e8b2",
            "afc7f402918441cda3f9f250cb478d63",
            "3bbced53b37d4c5a863e01cdde2f72ab",
            "4b926e5ad45d414687c49cc552ed5350",
            "4c20f9de7cc147cf8098e36ed9388971",
            "7232b266c8344a69a2efaca05ef69180",
            "3464358391c447d5be24aa452df1d184",
            "50378e6fe2434fb892ad11c9b394811f",
            "5732c6eaa84842a2adb454e884c0ddcd",
            "5a05b343f44c41a5a2de4780cc3404f2"
          ]
        },
        "id": "AjuLjhqaqUjF",
        "outputId": "05d331e0-c356-4681-f3dd-20c02f896dcc"
      },
      "execution_count": 2,
      "outputs": [
        {
          "output_type": "stream",
          "name": "stdout",
          "text": [
            "Downloading http://yann.lecun.com/exdb/mnist/train-images-idx3-ubyte.gz\n",
            "Downloading http://yann.lecun.com/exdb/mnist/train-images-idx3-ubyte.gz to data/MNIST/raw/train-images-idx3-ubyte.gz\n"
          ]
        },
        {
          "output_type": "display_data",
          "data": {
            "application/vnd.jupyter.widget-view+json": {
              "model_id": "47682b80d3184b11bb1168fd95c26382",
              "version_minor": 0,
              "version_major": 2
            },
            "text/plain": [
              "  0%|          | 0/9912422 [00:00<?, ?it/s]"
            ]
          },
          "metadata": {}
        },
        {
          "output_type": "stream",
          "name": "stdout",
          "text": [
            "Extracting data/MNIST/raw/train-images-idx3-ubyte.gz to data/MNIST/raw\n",
            "\n",
            "Downloading http://yann.lecun.com/exdb/mnist/train-labels-idx1-ubyte.gz\n",
            "Downloading http://yann.lecun.com/exdb/mnist/train-labels-idx1-ubyte.gz to data/MNIST/raw/train-labels-idx1-ubyte.gz\n"
          ]
        },
        {
          "output_type": "display_data",
          "data": {
            "application/vnd.jupyter.widget-view+json": {
              "model_id": "63525ad691174854b5bda276e242f9dc",
              "version_minor": 0,
              "version_major": 2
            },
            "text/plain": [
              "  0%|          | 0/28881 [00:00<?, ?it/s]"
            ]
          },
          "metadata": {}
        },
        {
          "output_type": "stream",
          "name": "stdout",
          "text": [
            "Extracting data/MNIST/raw/train-labels-idx1-ubyte.gz to data/MNIST/raw\n",
            "\n",
            "Downloading http://yann.lecun.com/exdb/mnist/t10k-images-idx3-ubyte.gz\n",
            "Downloading http://yann.lecun.com/exdb/mnist/t10k-images-idx3-ubyte.gz to data/MNIST/raw/t10k-images-idx3-ubyte.gz\n"
          ]
        },
        {
          "output_type": "display_data",
          "data": {
            "application/vnd.jupyter.widget-view+json": {
              "model_id": "f791fc0cd8b545d8a5ef30dcfe2a7fc8",
              "version_minor": 0,
              "version_major": 2
            },
            "text/plain": [
              "  0%|          | 0/1648877 [00:00<?, ?it/s]"
            ]
          },
          "metadata": {}
        },
        {
          "output_type": "stream",
          "name": "stdout",
          "text": [
            "Extracting data/MNIST/raw/t10k-images-idx3-ubyte.gz to data/MNIST/raw\n",
            "\n",
            "Downloading http://yann.lecun.com/exdb/mnist/t10k-labels-idx1-ubyte.gz\n",
            "Downloading http://yann.lecun.com/exdb/mnist/t10k-labels-idx1-ubyte.gz to data/MNIST/raw/t10k-labels-idx1-ubyte.gz\n"
          ]
        },
        {
          "output_type": "display_data",
          "data": {
            "application/vnd.jupyter.widget-view+json": {
              "model_id": "593c4b26179940e086721ddb58c464b7",
              "version_minor": 0,
              "version_major": 2
            },
            "text/plain": [
              "  0%|          | 0/4542 [00:00<?, ?it/s]"
            ]
          },
          "metadata": {}
        },
        {
          "output_type": "stream",
          "name": "stdout",
          "text": [
            "Extracting data/MNIST/raw/t10k-labels-idx1-ubyte.gz to data/MNIST/raw\n",
            "\n"
          ]
        }
      ]
    },
    {
      "cell_type": "code",
      "source": [
        "\n",
        "%matplotlib inline\n",
        "\n",
        "\n",
        "\n",
        "plt.figure(figsize=(20, 15))\n",
        "for i, digit in enumerate(test_data.targets.unique(),start=1):\n",
        "    index = np.where(test_data.targets == digit)[0][0]\n",
        "    ax = plt.subplot(1, 10, i)\n",
        "    ax.imshow(test_data.data[index],cmap='gray')\n",
        "    ax.set_title('%i' % test_data.targets[index])"
      ],
      "metadata": {
        "colab": {
          "base_uri": "https://localhost:8080/",
          "height": 158
        },
        "id": "MbAJI2rcqzhF",
        "outputId": "b1f27da2-9ef4-492e-f367-3776fb752fd0"
      },
      "execution_count": 3,
      "outputs": [
        {
          "output_type": "display_data",
          "data": {
            "image/png": "[encoded data removed]",
            "text/plain": [
              "<Figure size 1440x1080 with 10 Axes>"
            ]
          },
          "metadata": {
            "needs_background": "light"
          }
        }
      ]
    },
    {
      "cell_type": "markdown",
      "source": [
        "## Create mnist-m"
      ],
      "metadata": {
        "id": "qO6tRbqd0IwX"
      }
    },
    {
      "cell_type": "code",
      "source": [
        "from __future__ import print_function\n",
        "\n",
        "import errno\n",
        "import os\n",
        "\n",
        "import torch\n",
        "import torch.utils.data as data\n",
        "from PIL import Image\n",
        "\n",
        "\n",
        "class MNISTM(data.Dataset):\n",
        "    \"\"\"`MNIST-M Dataset.\"\"\"\n",
        "\n",
        "    url = \"https://github.com/VanushVaswani/keras_mnistm/releases/download/1.0/keras_mnistm.pkl.gz\"\n",
        "\n",
        "    raw_folder = \"raw\"\n",
        "    processed_folder = \"processed\"\n",
        "    training_file = \"mnist_m_train.pt\"\n",
        "    test_file = \"mnist_m_test.pt\"\n",
        "\n",
        "    def __init__(self, root, mnist_root=\"data\", train=True, transform=None, target_transform=None, download=False):\n",
        "        \"\"\"Init MNIST-M dataset.\"\"\"\n",
        "        super(MNISTM, self).__init__()\n",
        "        self.root = os.path.expanduser(root)\n",
        "        self.mnist_root = os.path.expanduser(mnist_root)\n",
        "        self.transform = transform\n",
        "        self.target_transform = target_transform\n",
        "        self.train = train  # training set or test set\n",
        "\n",
        "        if download:\n",
        "            self.download()\n",
        "\n",
        "        if not self._check_exists():\n",
        "            raise RuntimeError(\"Dataset not found.\" + \" You can use download=True to download it\")\n",
        "\n",
        "        if self.train:\n",
        "            self.train_data, self.train_labels = torch.load(\n",
        "                os.path.join(self.root, self.processed_folder, self.training_file)\n",
        "            )\n",
        "        else:\n",
        "            self.test_data, self.test_labels = torch.load(\n",
        "                os.path.join(self.root, self.processed_folder, self.test_file)\n",
        "            )\n",
        "\n",
        "    def __getitem__(self, index):\n",
        "        \"\"\"Get images and target for data loader.\n",
        "        Args:\n",
        "            index (int): Index\n",
        "        Returns:\n",
        "            tuple: (image, target) where target is index of the target class.\n",
        "        \"\"\"\n",
        "        if self.train:\n",
        "            img, target = self.train_data[index], self.train_labels[index]\n",
        "        else:\n",
        "            img, target = self.test_data[index], self.test_labels[index]\n",
        "\n",
        "        # doing this so that it is consistent with all other datasets\n",
        "        # to return a PIL Image\n",
        "        img = Image.fromarray(img.squeeze().numpy(), mode=\"RGB\")\n",
        "\n",
        "        if self.transform is not None:\n",
        "            img = self.transform(img)\n",
        "\n",
        "        if self.target_transform is not None:\n",
        "            target = self.target_transform(target)\n",
        "\n",
        "        return img, target\n",
        "\n",
        "    def __len__(self):\n",
        "        \"\"\"Return size of dataset.\"\"\"\n",
        "        if self.train:\n",
        "            return len(self.train_data)\n",
        "        else:\n",
        "            return len(self.test_data)\n",
        "\n",
        "    def _check_exists(self):\n",
        "        return os.path.exists(os.path.join(self.root, self.processed_folder, self.training_file)) and os.path.exists(\n",
        "            os.path.join(self.root, self.processed_folder, self.test_file)\n",
        "        )\n",
        "\n",
        "    def download(self):\n",
        "        \"\"\"Download the MNIST data.\"\"\"\n",
        "        # import essential packages\n",
        "        from six.moves import urllib\n",
        "        import gzip\n",
        "        import pickle\n",
        "        from torchvision import datasets\n",
        "\n",
        "        # check if dataset already exists\n",
        "        if self._check_exists():\n",
        "            return\n",
        "\n",
        "        # make data dirs\n",
        "        try:\n",
        "            os.makedirs(os.path.join(self.root, self.raw_folder))\n",
        "            os.makedirs(os.path.join(self.root, self.processed_folder))\n",
        "        except OSError as e:\n",
        "            if e.errno == errno.EEXIST:\n",
        "                pass\n",
        "            else:\n",
        "                raise\n",
        "\n",
        "        # download pkl files\n",
        "        print(\"Downloading \" + self.url)\n",
        "        filename = self.url.rpartition(\"/\")[2]\n",
        "        file_path = os.path.join(self.root, self.raw_folder, filename)\n",
        "        if not os.path.exists(file_path.replace(\".gz\", \"\")):\n",
        "            data = urllib.request.urlopen(self.url)\n",
        "            with open(file_path, \"wb\") as f:\n",
        "                f.write(data.read())\n",
        "            with open(file_path.replace(\".gz\", \"\"), \"wb\") as out_f, gzip.GzipFile(file_path) as zip_f:\n",
        "                out_f.write(zip_f.read())\n",
        "            os.unlink(file_path)\n",
        "\n",
        "        # process and save as torch files\n",
        "        print(\"Processing...\")\n",
        "\n",
        "        # load MNIST-M images from pkl file\n",
        "        with open(file_path.replace(\".gz\", \"\"), \"rb\") as f:\n",
        "            mnist_m_data = pickle.load(f, encoding=\"bytes\")\n",
        "        mnist_m_train_data = torch.ByteTensor(mnist_m_data[b\"train\"])\n",
        "        mnist_m_test_data = torch.ByteTensor(mnist_m_data[b\"test\"])\n",
        "\n",
        "        # get MNIST labels\n",
        "        mnist_train_labels = datasets.MNIST(root=self.mnist_root, train=True, download=True).train_labels\n",
        "        mnist_test_labels = datasets.MNIST(root=self.mnist_root, train=False, download=True).test_labels\n",
        "\n",
        "        # save MNIST-M dataset\n",
        "        training_set = (mnist_m_train_data, mnist_train_labels)\n",
        "        test_set = (mnist_m_test_data, mnist_test_labels)\n",
        "        with open(os.path.join(self.root, self.processed_folder, self.training_file), \"wb\") as f:\n",
        "            torch.save(training_set, f)\n",
        "        with open(os.path.join(self.root, self.processed_folder, self.test_file), \"wb\") as f:\n",
        "            torch.save(test_set, f)\n",
        "\n",
        "        print(\"Done!\")"
      ],
      "metadata": {
        "id": "jke6RwnwrgCP"
      },
      "execution_count": 4,
      "outputs": []
    },
    {
      "cell_type": "code",
      "source": [
        "train_mdata = MNISTM(\n",
        "    root = 'data',\n",
        "    train = True,                         \n",
        "    transform =  transforms.Compose([\n",
        "                transforms.ToTensor()               \n",
        "                 ]),  \n",
        "    download = True,            \n",
        ")\n",
        "test_mdata = MNISTM(\n",
        "    root = 'data', \n",
        "    train = False, \n",
        "    transform =  transforms.Compose([\n",
        "                transforms.ToTensor()               \n",
        "                 ]), \n",
        ")"
      ],
      "metadata": {
        "colab": {
          "base_uri": "https://localhost:8080/"
        },
        "id": "RRrspMZ80LUv",
        "outputId": "2c186bcd-8931-490b-a7cd-8157df8bf5a6"
      },
      "execution_count": 5,
      "outputs": [
        {
          "output_type": "stream",
          "name": "stdout",
          "text": [
            "Downloading https://github.com/VanushVaswani/keras_mnistm/releases/download/1.0/keras_mnistm.pkl.gz\n",
            "Processing...\n"
          ]
        },
        {
          "output_type": "stream",
          "name": "stderr",
          "text": [
            "/usr/local/lib/python3.7/dist-packages/torchvision/datasets/mnist.py:52: UserWarning: train_labels has been renamed targets\n",
            "  warnings.warn(\"train_labels has been renamed targets\")\n",
            "/usr/local/lib/python3.7/dist-packages/torchvision/datasets/mnist.py:57: UserWarning: test_labels has been renamed targets\n",
            "  warnings.warn(\"test_labels has been renamed targets\")\n"
          ]
        },
        {
          "output_type": "stream",
          "name": "stdout",
          "text": [
            "Done!\n"
          ]
        }
      ]
    },
    {
      "cell_type": "code",
      "source": [
        "%matplotlib inline\n",
        "\n",
        "plt.figure(figsize=(20, 15))\n",
        "for i, digit in enumerate(test_mdata.test_labels.unique(),start=1):\n",
        "    index = np.where(test_mdata.test_labels == digit)[0][0]\n",
        "    ax = plt.subplot(1, 10, i)\n",
        "    ax.imshow(test_mdata.test_data[index],cmap='gray')\n",
        "    ax.set_title('%i' % test_mdata.test_labels[index])"
      ],
      "metadata": {
        "colab": {
          "base_uri": "https://localhost:8080/",
          "height": 158
        },
        "id": "-ctpjRDN0tBE",
        "outputId": "74b17a83-dd97-471f-ef62-fe8d67f02006"
      },
      "execution_count": 6,
      "outputs": [
        {
          "output_type": "display_data",
          "data": {
            "image/png": "[encoded data removed]",
            "text/plain": [
              "<Figure size 1440x1080 with 10 Axes>"
            ]
          },
          "metadata": {
            "needs_background": "light"
          }
        }
      ]
    },
    {
      "cell_type": "code",
      "source": [
        "test_data[0][0].shape,test_mdata[0][0].shape"
      ],
      "metadata": {
        "colab": {
          "base_uri": "https://localhost:8080/"
        },
        "id": "_PlwS18u3sBX",
        "outputId": "614388a5-b1a0-4946-f974-e2b2c5055a60"
      },
      "execution_count": 7,
      "outputs": [
        {
          "output_type": "execute_result",
          "data": {
            "text/plain": [
              "(torch.Size([3, 28, 28]), torch.Size([3, 28, 28]))"
            ]
          },
          "metadata": {},
          "execution_count": 7
        }
      ]
    },
    {
      "cell_type": "markdown",
      "source": [
        "# Naive model"
      ],
      "metadata": {
        "id": "FVNOsVK01qFn"
      }
    },
    {
      "cell_type": "markdown",
      "source": [
        "![image.png](data:image/png;base64,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)"
      ],
      "metadata": {
        "id": "A9SP3omo3CVG"
      }
    },
    {
      "cell_type": "markdown",
      "source": [
        "Model definition"
      ],
      "metadata": {
        "id": "sheqWdtp65z9"
      }
    },
    {
      "cell_type": "code",
      "source": [
        "class Net(nn.Module):\n",
        "  def __init__(self):\n",
        "    super(Net,self).__init__()\n",
        "\n",
        "    self.conv1 = nn.Conv2d(3,32,5)\n",
        "    self.relu1 = nn.ReLU(inplace=True)\n",
        "    self.maxpool1 = nn.MaxPool2d(2,2)\n",
        "    self.conv2 = nn.Conv2d(32,48,5)\n",
        "    self.relu2 = nn.ReLU(inplace=True)\n",
        "    self.maxpool2 = nn.MaxPool2d(2,2)\n",
        "    self.flatten = nn.Flatten()\n",
        "    self.fc1 = nn.Linear(48*4*4,100)\n",
        "    self.fc2 = nn.Linear(100,100)\n",
        "    self.fc3 = nn.Linear(100,10)\n",
        "\n",
        "\n",
        "  def forward(self,x):\n",
        "    out = self.relu1(self.conv1(x))\n",
        "    out = self.maxpool1(out)\n",
        "    out = self.relu2(self.conv2(out))\n",
        "    out = self.maxpool2(out)\n",
        "    out = self.flatten(out)\n",
        "\n",
        "    out = nn.functional.relu(self.fc1(out))\n",
        "    out = nn.functional.relu(self.fc2(out))\n",
        "    logits = self.fc3(out)\n",
        "\n",
        "\n",
        "    return logits\n",
        "\n",
        "\n"
      ],
      "metadata": {
        "id": "1LDrjiv83Mpo"
      },
      "execution_count": 8,
      "outputs": []
    },
    {
      "cell_type": "code",
      "source": [
        "class Net(nn.Module):\n",
        "  def __init__(self):\n",
        "    super(Net,self).__init__()\n",
        "    self.feature_extractor = nn.Sequential(nn.Conv2d(3,32,5),\n",
        "                                           nn.ReLU(inplace=True),\n",
        "                                           nn.MaxPool2d(2,2),\n",
        "                                           nn.Conv2d(32,48,5),\n",
        "                                           nn.ReLU(inplace=True),\n",
        "                                           nn.MaxPool2d(2,2)\n",
        "\n",
        "                                           )\n",
        "    self.flatten = nn.Flatten()\n",
        "    self.class_classifier = nn.Sequential(nn.Linear(48*4*4,100),nn.ReLU(inplace=True),nn.Linear(100,100),nn.ReLU(inplace=True),nn.Linear(100,10))\n",
        "\n",
        "\n",
        "\n",
        "  def forward(self,x):\n",
        "    out = self.feature_extractor(x)\n",
        "  \n",
        "    out = self.flatten(out)\n",
        "\n",
        "    logits = self.class_classifier(out)\n",
        "\n",
        "\n",
        "    return logits\n",
        "\n",
        "\n"
      ],
      "metadata": {
        "id": "WajMPRIubqMV"
      },
      "execution_count": 9,
      "outputs": []
    },
    {
      "cell_type": "code",
      "source": [
        "model = Net()\n",
        "model"
      ],
      "metadata": {
        "colab": {
          "base_uri": "https://localhost:8080/"
        },
        "id": "7FwvCFbn9HOx",
        "outputId": "be95f68a-6f01-4b68-991a-42714f70749f"
      },
      "execution_count": 10,
      "outputs": [
        {
          "output_type": "execute_result",
          "data": {
            "text/plain": [
              "Net(\n",
              "  (feature_extractor): Sequential(\n",
              "    (0): Conv2d(3, 32, kernel_size=(5, 5), stride=(1, 1))\n",
              "    (1): ReLU(inplace=True)\n",
              "    (2): MaxPool2d(kernel_size=2, stride=2, padding=0, dilation=1, ceil_mode=False)\n",
              "    (3): Conv2d(32, 48, kernel_size=(5, 5), stride=(1, 1))\n",
              "    (4): ReLU(inplace=True)\n",
              "    (5): MaxPool2d(kernel_size=2, stride=2, padding=0, dilation=1, ceil_mode=False)\n",
              "  )\n",
              "  (flatten): Flatten(start_dim=1, end_dim=-1)\n",
              "  (class_classifier): Sequential(\n",
              "    (0): Linear(in_features=768, out_features=100, bias=True)\n",
              "    (1): ReLU(inplace=True)\n",
              "    (2): Linear(in_features=100, out_features=100, bias=True)\n",
              "    (3): ReLU(inplace=True)\n",
              "    (4): Linear(in_features=100, out_features=10, bias=True)\n",
              "  )\n",
              ")"
            ]
          },
          "metadata": {},
          "execution_count": 10
        }
      ]
    },
    {
      "cell_type": "markdown",
      "source": [
        "Define optimizer and loss function"
      ],
      "metadata": {
        "id": "NAyb9DSB6-A6"
      }
    },
    {
      "cell_type": "code",
      "source": [
        "\n",
        "loss_fn = nn.CrossEntropyLoss()\n",
        "optimizer = optimizer = optim.Adam(model.parameters(), lr = 0.01)   \n"
      ],
      "metadata": {
        "id": "--MiR5b509fV"
      },
      "execution_count": 11,
      "outputs": []
    },
    {
      "cell_type": "markdown",
      "source": [
        "Define dataloaders"
      ],
      "metadata": {
        "id": "lVwOcvXV7BFn"
      }
    },
    {
      "cell_type": "code",
      "source": [
        "\n",
        "batch_size = 128\n",
        "\n",
        "# Create data loaders.\n",
        "train_dataloader = DataLoader(train_data, batch_size=batch_size)\n",
        "test_dataloader = DataLoader(test_data, batch_size=batch_size)\n",
        "\n",
        "for X, y in train_dataloader:\n",
        "    print(\"Shape of X [N, C, H, W]: \", X.shape)\n",
        "    print(\"Shape of y: \", y.shape, y.dtype)\n",
        "\n",
        "    plt.imshow(X[0].squeeze(0).permute(1,2,0), cmap='gray')\n",
        "    plt.title('%i' % y[0])\n",
        "    plt.show()\n",
        "    break\n",
        "\n",
        "for X, y in test_dataloader:\n",
        "    print(\"Shape of X [N, C, H, W]: \", X.shape)\n",
        "    print(\"Shape of y: \", y.shape, y.dtype)\n",
        "\n",
        "    plt.imshow(X[0].squeeze(0).permute(1,2,0), cmap='gray')\n",
        "    plt.title('%i' % y[0])\n",
        "    plt.show()\n",
        "    break"
      ],
      "metadata": {
        "colab": {
          "base_uri": "https://localhost:8080/",
          "height": 614
        },
        "id": "gc0aX4Oo6nd4",
        "outputId": "0c079004-3daa-40bb-b550-eb3051727880"
      },
      "execution_count": 12,
      "outputs": [
        {
          "output_type": "stream",
          "name": "stdout",
          "text": [
            "Shape of X [N, C, H, W]:  torch.Size([128, 3, 28, 28])\n",
            "Shape of y:  torch.Size([128]) torch.int64\n"
          ]
        },
        {
          "output_type": "display_data",
          "data": {
            "image/png": "[encoded data removed]",
            "text/plain": [
              "<Figure size 432x288 with 1 Axes>"
            ]
          },
          "metadata": {
            "needs_background": "light"
          }
        },
        {
          "output_type": "stream",
          "name": "stdout",
          "text": [
            "Shape of X [N, C, H, W]:  torch.Size([128, 3, 28, 28])\n",
            "Shape of y:  torch.Size([128]) torch.int64\n"
          ]
        },
        {
          "output_type": "display_data",
          "data": {
            "image/png": "[encoded data removed]",
            "text/plain": [
              "<Figure size 432x288 with 1 Axes>"
            ]
          },
          "metadata": {
            "needs_background": "light"
          }
        }
      ]
    },
    {
      "cell_type": "code",
      "source": [
        "# Create data loaders.\n",
        "train_mdataloader = DataLoader(train_mdata, batch_size=batch_size)\n",
        "test_mdataloader = DataLoader(test_mdata, batch_size=batch_size)\n",
        "\n",
        "for X, y in train_mdataloader:\n",
        "    print(\"Shape of X [N, C, H, W]: \", X.shape)\n",
        "    print(\"Shape of y: \", y.shape, y.dtype)\n",
        "\n",
        "    plt.imshow(X[0].squeeze(0).permute(1,2,0), cmap='gray')\n",
        "    plt.title('%i' % y[0])\n",
        "    plt.show()\n",
        "    break\n",
        "\n",
        "for X, y in test_mdataloader:\n",
        "    print(\"Shape of X [N, C, H, W]: \", X.shape)\n",
        "    print(\"Shape of y: \", y.shape, y.dtype)\n",
        "\n",
        "    plt.imshow(X[0].squeeze(0).permute(1,2,0), cmap='gray')\n",
        "    plt.title('%i' % y[0])\n",
        "    plt.show()\n",
        "    break"
      ],
      "metadata": {
        "colab": {
          "base_uri": "https://localhost:8080/",
          "height": 614
        },
        "id": "S0SghRXmC5ba",
        "outputId": "fcf5341c-af22-4e98-c739-ad32000df9f6"
      },
      "execution_count": 13,
      "outputs": [
        {
          "output_type": "stream",
          "name": "stdout",
          "text": [
            "Shape of X [N, C, H, W]:  torch.Size([128, 3, 28, 28])\n",
            "Shape of y:  torch.Size([128]) torch.int64\n"
          ]
        },
        {
          "output_type": "display_data",
          "data": {
            "image/png": "[encoded data removed]",
            "text/plain": [
              "<Figure size 432x288 with 1 Axes>"
            ]
          },
          "metadata": {
            "needs_background": "light"
          }
        },
        {
          "output_type": "stream",
          "name": "stdout",
          "text": [
            "Shape of X [N, C, H, W]:  torch.Size([128, 3, 28, 28])\n",
            "Shape of y:  torch.Size([128]) torch.int64\n"
          ]
        },
        {
          "output_type": "display_data",
          "data": {
            "image/png": "[encoded data removed]",
            "text/plain": [
              "<Figure size 432x288 with 1 Axes>"
            ]
          },
          "metadata": {
            "needs_background": "light"
          }
        }
      ]
    },
    {
      "cell_type": "markdown",
      "source": [
        "Train and test functions"
      ],
      "metadata": {
        "id": "pLrUxcaf7DMy"
      }
    },
    {
      "cell_type": "code",
      "source": [
        "def train(dataloader, model, loss_fn, optimizer):\n",
        "    size = len(dataloader.dataset)\n",
        "    model.train()\n",
        "    for batch, (X, y) in enumerate(dataloader):\n",
        "        X, y = X.to(device), y.to(device)\n",
        "\n",
        "        # Compute prediction error\n",
        "        pred = model(X)\n",
        "        loss = loss_fn(pred, y)\n",
        "\n",
        "        # Backpropagation\n",
        "        optimizer.zero_grad()\n",
        "        loss.backward()\n",
        "        optimizer.step()\n",
        "\n",
        "        if batch % 100 == 0:\n",
        "            loss, current = loss.item(), batch * len(X)\n",
        "            print(f\"loss: {loss:>7f}  [{current:>5d}/{size:>5d}]\")\n",
        "\n",
        "\n",
        "def test(dataloader, model, loss_fn):\n",
        "    size = len(dataloader.dataset)\n",
        "    num_batches = len(dataloader)\n",
        "    model.eval()\n",
        "    test_loss, correct = 0, 0\n",
        "    with torch.no_grad():\n",
        "        for X, y in dataloader:\n",
        "            X, y = X.to(device), y.to(device)\n",
        "            pred = model(X)\n",
        "            test_loss += loss_fn(pred, y).item()\n",
        "            correct += (pred.argmax(1) == y).type(torch.float).sum().item()\n",
        "    test_loss /= num_batches\n",
        "    correct /= size\n",
        "    print(f\"Test Error: \\n Accuracy: {(100*correct):>0.1f}%, Avg loss: {test_loss:>8f} \\n\")"
      ],
      "metadata": {
        "id": "8sORtv6Q7Li9"
      },
      "execution_count": 14,
      "outputs": []
    },
    {
      "cell_type": "code",
      "source": [
        "epochs = 5\n",
        "model = model.to(device)\n",
        "for t in range(epochs):\n",
        "    print(f\"Epoch {t+1}\\n-------------------------------\")\n",
        "    train(train_dataloader, model, loss_fn, optimizer)\n",
        "    test(test_dataloader, model, loss_fn)\n",
        "print(\"Done!\")"
      ],
      "metadata": {
        "colab": {
          "base_uri": "https://localhost:8080/"
        },
        "id": "PpDUuVdS9owM",
        "outputId": "a5161553-8e2f-4ab4-bb1c-225dd171626b"
      },
      "execution_count": 15,
      "outputs": [
        {
          "output_type": "stream",
          "name": "stdout",
          "text": [
            "Epoch 1\n",
            "-------------------------------\n",
            "loss: 2.312287  [    0/60000]\n",
            "loss: 0.136728  [12800/60000]\n",
            "loss: 0.122409  [25600/60000]\n",
            "loss: 0.086337  [38400/60000]\n",
            "loss: 0.229539  [51200/60000]\n",
            "Test Error: \n",
            " Accuracy: 97.1%, Avg loss: 0.100409 \n",
            "\n",
            "Epoch 2\n",
            "-------------------------------\n",
            "loss: 0.057067  [    0/60000]\n",
            "loss: 0.067514  [12800/60000]\n",
            "loss: 0.102652  [25600/60000]\n",
            "loss: 0.079201  [38400/60000]\n",
            "loss: 0.177393  [51200/60000]\n",
            "Test Error: \n",
            " Accuracy: 97.7%, Avg loss: 0.077397 \n",
            "\n",
            "Epoch 3\n",
            "-------------------------------\n",
            "loss: 0.070927  [    0/60000]\n",
            "loss: 0.029212  [12800/60000]\n",
            "loss: 0.056360  [25600/60000]\n",
            "loss: 0.074658  [38400/60000]\n",
            "loss: 0.161009  [51200/60000]\n",
            "Test Error: \n",
            " Accuracy: 97.6%, Avg loss: 0.133944 \n",
            "\n",
            "Epoch 4\n",
            "-------------------------------\n",
            "loss: 0.088712  [    0/60000]\n",
            "loss: 0.050012  [12800/60000]\n",
            "loss: 0.058156  [25600/60000]\n",
            "loss: 0.072032  [38400/60000]\n",
            "loss: 0.077408  [51200/60000]\n",
            "Test Error: \n",
            " Accuracy: 97.8%, Avg loss: 0.110871 \n",
            "\n",
            "Epoch 5\n",
            "-------------------------------\n",
            "loss: 0.029109  [    0/60000]\n",
            "loss: 0.018170  [12800/60000]\n",
            "loss: 0.135162  [25600/60000]\n",
            "loss: 0.079156  [38400/60000]\n",
            "loss: 0.074903  [51200/60000]\n",
            "Test Error: \n",
            " Accuracy: 98.7%, Avg loss: 0.071203 \n",
            "\n",
            "Done!\n"
          ]
        }
      ]
    },
    {
      "cell_type": "code",
      "source": [
        "print('Evaluation on MNIST \\n')\n",
        "test(test_dataloader, model, loss_fn)\n",
        "\n",
        "print('Evaluation on MNIST-M \\n')\n",
        "test(test_mdataloader, model, loss_fn)\n"
      ],
      "metadata": {
        "colab": {
          "base_uri": "https://localhost:8080/"
        },
        "id": "v2FrUUAT-2mg",
        "outputId": "ad957515-40cc-4c38-b26e-845000f9d380"
      },
      "execution_count": 16,
      "outputs": [
        {
          "output_type": "stream",
          "name": "stdout",
          "text": [
            "Evaluation on MNIST \n",
            "\n",
            "Test Error: \n",
            " Accuracy: 98.7%, Avg loss: 0.071203 \n",
            "\n",
            "Evaluation on MNIST-M \n",
            "\n",
            "Test Error: \n",
            " Accuracy: 25.3%, Avg loss: 2.139339 \n",
            "\n"
          ]
        }
      ]
    },
    {
      "cell_type": "markdown",
      "source": [
        "# Model with Gradient Reveresal Layer\n",
        "\n",
        "![image.png](data:image/png;base64,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)\n"
      ],
      "metadata": {
        "id": "4wdhKpZAHPWn"
      }
    },
    {
      "cell_type": "markdown",
      "source": [
        "GRL "
      ],
      "metadata": {
        "id": "NBL4IgxcHrDR"
      }
    },
    {
      "cell_type": "code",
      "source": [
        "import torch\n",
        "import torch.nn as nn\n",
        "from torch.autograd import Function\n",
        "import pytest\n",
        "from copy import deepcopy\n",
        "\n",
        "class GradientReversal(Function):\n",
        "  \"\"\"\n",
        "  This custom autograd class implements gradient reersal function\n",
        "  \"\"\"\n",
        "\n",
        "  @staticmethod\n",
        "  def forward(ctx, input,lamda):\n",
        "        \"\"\"\n",
        "        In the forward pass we receive a Tensor containing the input and return\n",
        "        a Tensor containing the output. ctx is a context object that can be used\n",
        "        to stash information for backward computation. You can cache arbitrary\n",
        "        objects for use in the backward pass using the ctx.save_for_backward method.\n",
        "        \"\"\"\n",
        "        ctx.save_for_backward(input,lamda)\n",
        "        output  = input\n",
        "        return output\n",
        "\n",
        "  @staticmethod\n",
        "  def backward(ctx, grad_output):\n",
        "        \"\"\"\n",
        "        In the backward pass we receive a Tensor containing the gradient of the loss\n",
        "        with respect to the output, and we need to compute the gradient of the loss\n",
        "        with respect to the input.\n",
        "        \"\"\"\n",
        "        input,lamda = ctx.saved_tensors\n",
        "        grad_input = None\n",
        "        if ctx.needs_input_grad[0]:\n",
        "          grad_input = grad_output.neg()*lamda\n",
        "\n",
        "\n",
        "        return grad_input,None\n",
        "class GradientReversalLayer(nn.Module):\n",
        "  def __init__(self,lamda=1.0,*args,**kwargs):\n",
        "    \"\"\"\n",
        "    A gradient reversal layer\n",
        "\n",
        "    This layer only reverses the gradient(sometimes multiplies with a non-zero constant) in the backward propagation\n",
        "\n",
        "    grad_input = -grad_outpu*alpha\n",
        "    \"\"\"\n",
        "\n",
        "    super().__init__(*args,**kwargs)\n",
        "\n",
        "    self.lamda = torch.tensor(lamda,requires_grad=False)\n",
        "             \n",
        "\n",
        "  def forward(self,x):\n",
        "    return GradientReversal.apply(x,self.lamda)"
      ],
      "metadata": {
        "id": "WRyKUwGDDe3n"
      },
      "execution_count": 17,
      "outputs": []
    },
    {
      "cell_type": "code",
      "source": [
        "class DANNv1(nn.Module):\n",
        "  def __init__(self,lamda):\n",
        "    super(DANNv1,self).__init__()\n",
        "\n",
        "    self.feature_extractor  = Net().feature_extractor\n",
        "    self.flatten = nn.Flatten()\n",
        "    self.grl = GradientReversalLayer(lamda=lamda)\n",
        "\n",
        "    self.class_classifier  = Net().class_classifier\n",
        "\n",
        "    self.domain_classifier = nn.Sequential(nn.Linear(48*4*4,100),nn.ReLU(inplace=True),nn.Linear(100,1),nn.Sigmoid())\n",
        "\n",
        "  def forward(self,x):\n",
        "    feature = self.flatten(self.feature_extractor(x))\n",
        "    class_out = self.class_classifier(feature)\n",
        "\n",
        "    reverse_feature = self.grl(feature)\n",
        "    domain_out = self.domain_classifier(reverse_feature)\n",
        "\n",
        "    return class_out,domain_out\n"
      ],
      "metadata": {
        "id": "TABbmxkHHyds"
      },
      "execution_count": 18,
      "outputs": []
    },
    {
      "cell_type": "code",
      "source": [
        "x = torch.ones((128,3,28,28)).float().to('cuda')\n",
        "dann = DANNv1(lamda=1.0).to('cuda')\n",
        "c,d = dann(x)\n",
        "c.shape,d.shape"
      ],
      "metadata": {
        "colab": {
          "base_uri": "https://localhost:8080/"
        },
        "id": "EyOU2U75un9D",
        "outputId": "854b1057-56bf-40ee-ae84-f5b32d1b876c"
      },
      "execution_count": 19,
      "outputs": [
        {
          "output_type": "execute_result",
          "data": {
            "text/plain": [
              "(torch.Size([128, 10]), torch.Size([128, 1]))"
            ]
          },
          "metadata": {},
          "execution_count": 19
        }
      ]
    },
    {
      "cell_type": "code",
      "source": [
        "for i, (source_data, target_data) in enumerate(zip(train_dataloader, train_mdataloader)):\n",
        "\n",
        "  X_src,y_src = source_data\n",
        "  X_tgt,y_tgt = target_data\n",
        "\n",
        "  print(\"Shape of X [N, C, H, W]: \", X_src.shape)\n",
        "  print(\"Shape of y: \", y_src.shape, y_src.dtype)\n",
        "\n",
        "  plt.imshow(X_src[0].squeeze(0).permute(1,2,0), cmap='gray')\n",
        "  plt.title('%i' % y_src[0])\n",
        "  plt.show()\n",
        "\n",
        "  plt.imshow(X_tgt[0].squeeze(0).permute(1,2,0))\n",
        "  plt.title('%i' % y_tgt[0])\n",
        "  plt.show()\n",
        "\n",
        "  break"
      ],
      "metadata": {
        "colab": {
          "base_uri": "https://localhost:8080/",
          "height": 580
        },
        "id": "yalmZs0ElDsb",
        "outputId": "8e978aad-b072-4f79-e6c3-3104964a1522"
      },
      "execution_count": 20,
      "outputs": [
        {
          "output_type": "stream",
          "name": "stdout",
          "text": [
            "Shape of X [N, C, H, W]:  torch.Size([128, 3, 28, 28])\n",
            "Shape of y:  torch.Size([128]) torch.int64\n"
          ]
        },
        {
          "output_type": "display_data",
          "data": {
            "image/png": "[encoded data removed]",
            "text/plain": [
              "<Figure size 432x288 with 1 Axes>"
            ]
          },
          "metadata": {
            "needs_background": "light"
          }
        },
        {
          "output_type": "display_data",
          "data": {
            "image/png": "[encoded data removed]",
            "text/plain": [
              "<Figure size 432x288 with 1 Axes>"
            ]
          },
          "metadata": {
            "needs_background": "light"
          }
        }
      ]
    },
    {
      "cell_type": "code",
      "source": [
        "from torch.autograd import Variable, Function\n",
        "import datetime"
      ],
      "metadata": {
        "id": "DlsrucL6i1M4"
      },
      "execution_count": 21,
      "outputs": []
    },
    {
      "cell_type": "code",
      "source": [
        "class DomainAdaptation(object):\n",
        "  def __init__(self,source_trainloader,source_testloader,target_trainloader,device='cuda'):\n",
        "    self.source_trainloader = source_trainloader\n",
        "    self.source_testloader = source_testloader\n",
        "    self.target_trainloader = target_trainloader\n",
        "\n",
        "    self.num_classes = 10\n",
        "    self.device = device\n",
        "    self.batch_size = self.source_trainloader.batch_size\n",
        "    print(self.batch_size)\n",
        "    self.model = DANNv1(lamda = 1.0).to(self.device)\n",
        "    # self.optimizer = optim.Adam(model.parameters(), lr = 0.01)  \n",
        "    self.optimizer = optim.Adam(self.model.parameters(), lr=0.001, betas=(0.8, 0.999))\n",
        "    self.loss_fn_cls = nn.CrossEntropyLoss()\n",
        "    self.loss_fn_d = nn.BCELoss()\n",
        "\n",
        "    self.real_class = 1\n",
        "    self.fake_class = 0\n",
        "    self.best_val = 0\n",
        "\n",
        "    for p in self.model.parameters():\n",
        "            p.requires_grad = True\n",
        "\n",
        "  def test(self, epoch):\n",
        "     \n",
        "        # self.model.load_state_dict(torch.load('./best_dann.pth'))\n",
        "        \n",
        "        self.model.eval()\n",
        "        total = 0\n",
        "        correct = 0\n",
        "        with torch.no_grad():\n",
        "          for i, tgt_data in enumerate(self.target_trainloader):\n",
        "              tgt_image, tgt_label = tgt_data\n",
        "              tgt_image = tgt_image.cuda()\n",
        "              tgt_image = Variable(tgt_image)\n",
        "\n",
        "              class_out, _ = self.model(tgt_image)\n",
        "              \n",
        "              _, predicted = torch.max(class_out.data, 1)\n",
        "              total += tgt_label.size(0)\n",
        "              correct += ((predicted == tgt_label.cuda()).sum())\n",
        "\n",
        "        test_acc = 100*float(correct)/total\n",
        "        print('\\n%s| Epoch: %d, Test Accuracy: %f %%' % (datetime.datetime.now(), epoch, test_acc))\n",
        "\n",
        "        return test_acc\n",
        "\n",
        "  def train(self,num_epochs=5):\n",
        "    \n",
        "  \n",
        "    min_len = min(len(self.source_trainloader),len(self.target_trainloader))\n",
        "    print_frequency = min_len//2\n",
        "    for epoch in range(num_epochs):\n",
        "      self.model.train()\n",
        "      for i, (source_data, target_data) in enumerate(zip(self.source_trainloader, self.target_trainloader)):\n",
        "\n",
        "        X_src,y_src = source_data\n",
        "        X_tgt,y_tgt = target_data\n",
        "\n",
        "        X_src = X_src.to(self.device)\n",
        "        y_src = y_src.to(self.device)\n",
        "        X_tgt = X_tgt.to(self.device)\n",
        "\n",
        "        self.model.zero_grad()\n",
        "        # print(X_src.shape)\n",
        "        class_out, domain_out = self.model(X_src)\n",
        "\n",
        "        \n",
        "        fake_class = torch.zeros_like(domain_out)\n",
        "\n",
        "        # print(class_out.shape,domain_out.shape,fake_class.shape,real_class.shape)\n",
        "\n",
        "        class_err = self.loss_fn_cls(class_out, y_src)\n",
        "        src_domain_err = self.loss_fn_d(domain_out, fake_class)\n",
        "\n",
        "        _, domain_out = self.model(X_tgt)\n",
        "        real_class = torch.ones_like(domain_out)\n",
        "        tgt_domain_err = self.loss_fn_d(domain_out, real_class)\n",
        "\n",
        "        total_loss = class_err + src_domain_err + tgt_domain_err\n",
        "\n",
        "        total_loss.backward()\n",
        "        self.optimizer.step()\n",
        "\n",
        "        if i % print_frequency == 0:\n",
        "            print('epoch: {0}| {1}/{2}  class_err: {c:.4f}  src_err: {s:.4f}  tgt_err: {t:.4f}'.format(\n",
        "                epoch, i, min_len, c=class_err.data.item(), s=src_domain_err.data.item(), t=tgt_domain_err.data.item()\n",
        "            ))\n",
        "\n",
        "      torch.save(self.model.state_dict(), './dann.pth')\n",
        "      test_acc = self.test(epoch+1)\n",
        "      # self.validate(epoch+1)\n",
        "\n",
        "      if test_acc > self.best_val:\n",
        "          self.best_val = test_acc\n",
        "          torch.save(self.model.state_dict(), './best_dann.pth')\n",
        "\n",
        "\n",
        "\n"
      ],
      "metadata": {
        "id": "5vfZORvSejyE"
      },
      "execution_count": 26,
      "outputs": []
    },
    {
      "cell_type": "code",
      "source": [
        "da = DomainAdaptation(train_dataloader,test_dataloader,train_mdataloader)\n",
        "da.train(num_epochs=50)"
      ],
      "metadata": {
        "colab": {
          "base_uri": "https://localhost:8080/"
        },
        "id": "MkivWlp0gSl_",
        "outputId": "55b71fde-95ab-45de-994b-81136986f611"
      },
      "execution_count": 27,
      "outputs": [
        {
          "output_type": "stream",
          "name": "stdout",
          "text": [
            "128\n",
            "epoch: 0| 0/469  class_err: 2.3005  src_err: 0.7030  tgt_err: 0.6860\n",
            "epoch: 0| 234/469  class_err: 0.5202  src_err: 0.4450  tgt_err: 0.6316\n",
            "epoch: 0| 468/469  class_err: 0.5632  src_err: 0.7020  tgt_err: 0.1841\n",
            "\n",
            "2021-12-29 17:08:27.159105| Epoch: 1, Test Accuracy: 31.250000 %\n",
            "epoch: 1| 0/469  class_err: 0.3637  src_err: 0.1934  tgt_err: 0.5181\n",
            "epoch: 1| 234/469  class_err: 0.2720  src_err: 0.6416  tgt_err: 0.5135\n",
            "epoch: 1| 468/469  class_err: 0.4767  src_err: 0.2775  tgt_err: 1.3250\n",
            "\n",
            "2021-12-29 17:09:02.734312| Epoch: 2, Test Accuracy: 44.786667 %\n",
            "epoch: 2| 0/469  class_err: 0.3293  src_err: 0.6084  tgt_err: 0.7596\n",
            "epoch: 2| 234/469  class_err: 0.1793  src_err: 0.5014  tgt_err: 0.8083\n",
            "epoch: 2| 468/469  class_err: 0.3909  src_err: 0.6786  tgt_err: 0.9286\n",
            "\n",
            "2021-12-29 17:09:38.931990| Epoch: 3, Test Accuracy: 47.186667 %\n",
            "epoch: 3| 0/469  class_err: 0.2445  src_err: 0.9566  tgt_err: 0.5340\n",
            "epoch: 3| 234/469  class_err: 0.1723  src_err: 0.4581  tgt_err: 0.6664\n",
            "epoch: 3| 468/469  class_err: 0.3860  src_err: 1.1911  tgt_err: 0.2637\n",
            "\n",
            "2021-12-29 17:10:14.528976| Epoch: 4, Test Accuracy: 47.870000 %\n",
            "epoch: 4| 0/469  class_err: 0.1813  src_err: 0.8972  tgt_err: 0.3562\n",
            "epoch: 4| 234/469  class_err: 0.0948  src_err: 0.6377  tgt_err: 0.6184\n",
            "epoch: 4| 468/469  class_err: 0.5092  src_err: 1.0632  tgt_err: 0.3215\n",
            "\n",
            "2021-12-29 17:10:50.512471| Epoch: 5, Test Accuracy: 42.916667 %\n",
            "epoch: 5| 0/469  class_err: 0.2692  src_err: 0.8225  tgt_err: 0.4180\n",
            "epoch: 5| 234/469  class_err: 0.1015  src_err: 0.7437  tgt_err: 0.5579\n",
            "epoch: 5| 468/469  class_err: 0.7546  src_err: 0.7446  tgt_err: 1.6115\n",
            "\n",
            "2021-12-29 17:11:26.116717| Epoch: 6, Test Accuracy: 32.738333 %\n",
            "epoch: 6| 0/469  class_err: 1.0710  src_err: 0.9636  tgt_err: 2.2704\n",
            "epoch: 6| 234/469  class_err: 0.0953  src_err: 0.8327  tgt_err: 0.3486\n",
            "epoch: 6| 468/469  class_err: 0.3598  src_err: 0.5713  tgt_err: 0.5757\n",
            "\n",
            "2021-12-29 17:12:01.383512| Epoch: 7, Test Accuracy: 45.616667 %\n",
            "epoch: 7| 0/469  class_err: 0.1721  src_err: 0.7171  tgt_err: 0.5890\n",
            "epoch: 7| 234/469  class_err: 0.1473  src_err: 1.1455  tgt_err: 0.4845\n",
            "epoch: 7| 468/469  class_err: 0.2574  src_err: 0.8679  tgt_err: 0.5704\n",
            "\n",
            "2021-12-29 17:12:36.711463| Epoch: 8, Test Accuracy: 52.395000 %\n",
            "epoch: 8| 0/469  class_err: 0.1078  src_err: 0.6234  tgt_err: 0.7212\n",
            "epoch: 8| 234/469  class_err: 0.0450  src_err: 0.7540  tgt_err: 0.5613\n",
            "epoch: 8| 468/469  class_err: 0.1847  src_err: 0.9961  tgt_err: 0.3514\n",
            "\n",
            "2021-12-29 17:13:11.565790| Epoch: 9, Test Accuracy: 55.261667 %\n",
            "epoch: 9| 0/469  class_err: 0.0897  src_err: 1.0795  tgt_err: 0.4264\n",
            "epoch: 9| 234/469  class_err: 0.0526  src_err: 0.7853  tgt_err: 0.6079\n",
            "epoch: 9| 468/469  class_err: 0.1771  src_err: 0.7919  tgt_err: 0.6552\n",
            "\n",
            "2021-12-29 17:13:48.157955| Epoch: 10, Test Accuracy: 55.500000 %\n",
            "epoch: 10| 0/469  class_err: 0.1111  src_err: 0.7890  tgt_err: 0.6467\n",
            "epoch: 10| 234/469  class_err: 0.0717  src_err: 0.7206  tgt_err: 0.5602\n",
            "epoch: 10| 468/469  class_err: 0.2436  src_err: 0.6996  tgt_err: 0.5023\n",
            "\n",
            "2021-12-29 17:14:23.996164| Epoch: 11, Test Accuracy: 53.741667 %\n",
            "epoch: 11| 0/469  class_err: 0.1515  src_err: 0.7024  tgt_err: 0.5080\n",
            "epoch: 11| 234/469  class_err: 0.0799  src_err: 0.6503  tgt_err: 0.6407\n",
            "epoch: 11| 468/469  class_err: 0.2085  src_err: 0.7145  tgt_err: 0.6242\n",
            "\n",
            "2021-12-29 17:14:59.852461| Epoch: 12, Test Accuracy: 58.626667 %\n",
            "epoch: 12| 0/469  class_err: 0.0755  src_err: 0.6447  tgt_err: 0.6011\n",
            "epoch: 12| 234/469  class_err: 0.0853  src_err: 0.6251  tgt_err: 0.5812\n",
            "epoch: 12| 468/469  class_err: 0.1584  src_err: 0.6375  tgt_err: 0.6101\n",
            "\n",
            "2021-12-29 17:15:35.202709| Epoch: 13, Test Accuracy: 59.791667 %\n",
            "epoch: 13| 0/469  class_err: 0.0926  src_err: 0.6523  tgt_err: 0.5940\n",
            "epoch: 13| 234/469  class_err: 0.0941  src_err: 0.6790  tgt_err: 0.5674\n",
            "epoch: 13| 468/469  class_err: 0.1718  src_err: 0.7362  tgt_err: 0.6268\n",
            "\n",
            "2021-12-29 17:16:10.388373| Epoch: 14, Test Accuracy: 59.800000 %\n",
            "epoch: 14| 0/469  class_err: 0.0723  src_err: 0.7021  tgt_err: 0.6145\n",
            "epoch: 14| 234/469  class_err: 0.0956  src_err: 0.6156  tgt_err: 0.6671\n",
            "epoch: 14| 468/469  class_err: 0.1815  src_err: 0.8720  tgt_err: 0.6065\n",
            "\n",
            "2021-12-29 17:16:45.608959| Epoch: 15, Test Accuracy: 60.390000 %\n",
            "epoch: 15| 0/469  class_err: 0.0967  src_err: 0.8169  tgt_err: 0.5652\n",
            "epoch: 15| 234/469  class_err: 0.0712  src_err: 0.7141  tgt_err: 0.6590\n",
            "epoch: 15| 468/469  class_err: 0.1915  src_err: 0.7324  tgt_err: 0.6048\n",
            "\n",
            "2021-12-29 17:17:21.126464| Epoch: 16, Test Accuracy: 59.355000 %\n",
            "epoch: 16| 0/469  class_err: 0.0586  src_err: 0.7861  tgt_err: 0.5656\n",
            "epoch: 16| 234/469  class_err: 0.0766  src_err: 0.6690  tgt_err: 0.8303\n",
            "epoch: 16| 468/469  class_err: 0.2378  src_err: 0.6661  tgt_err: 0.6281\n",
            "\n",
            "2021-12-29 17:17:56.692715| Epoch: 17, Test Accuracy: 60.430000 %\n",
            "epoch: 17| 0/469  class_err: 0.0498  src_err: 0.6432  tgt_err: 0.5691\n",
            "epoch: 17| 234/469  class_err: 0.1234  src_err: 0.8306  tgt_err: 0.6791\n",
            "epoch: 17| 468/469  class_err: 0.1543  src_err: 0.6193  tgt_err: 0.6818\n",
            "\n",
            "2021-12-29 17:18:32.129627| Epoch: 18, Test Accuracy: 60.360000 %\n",
            "epoch: 18| 0/469  class_err: 0.0469  src_err: 0.5432  tgt_err: 0.7293\n",
            "epoch: 18| 234/469  class_err: 0.0718  src_err: 0.6289  tgt_err: 0.7367\n",
            "epoch: 18| 468/469  class_err: 0.2104  src_err: 0.8017  tgt_err: 0.5183\n",
            "\n",
            "2021-12-29 17:19:07.620566| Epoch: 19, Test Accuracy: 63.248333 %\n",
            "epoch: 19| 0/469  class_err: 0.0630  src_err: 0.7937  tgt_err: 0.5389\n",
            "epoch: 19| 234/469  class_err: 0.0789  src_err: 0.7234  tgt_err: 0.7429\n",
            "epoch: 19| 468/469  class_err: 0.2191  src_err: 0.6818  tgt_err: 0.7378\n",
            "\n",
            "2021-12-29 17:19:42.731728| Epoch: 20, Test Accuracy: 60.928333 %\n",
            "epoch: 20| 0/469  class_err: 0.0680  src_err: 0.7420  tgt_err: 0.6203\n",
            "epoch: 20| 234/469  class_err: 0.0903  src_err: 0.6665  tgt_err: 0.7319\n",
            "epoch: 20| 468/469  class_err: 0.1622  src_err: 0.6690  tgt_err: 0.7055\n",
            "\n",
            "2021-12-29 17:20:17.634454| Epoch: 21, Test Accuracy: 63.143333 %\n",
            "epoch: 21| 0/469  class_err: 0.0470  src_err: 0.6621  tgt_err: 0.6776\n",
            "epoch: 21| 234/469  class_err: 0.1082  src_err: 0.7292  tgt_err: 0.6163\n",
            "epoch: 21| 468/469  class_err: 0.1469  src_err: 0.7532  tgt_err: 0.6727\n",
            "\n",
            "2021-12-29 17:20:52.639562| Epoch: 22, Test Accuracy: 64.195000 %\n",
            "epoch: 22| 0/469  class_err: 0.0558  src_err: 0.6791  tgt_err: 0.6852\n",
            "epoch: 22| 234/469  class_err: 0.0626  src_err: 0.6969  tgt_err: 0.5983\n",
            "epoch: 22| 468/469  class_err: 0.1382  src_err: 0.6757  tgt_err: 0.7138\n",
            "\n",
            "2021-12-29 17:21:28.333106| Epoch: 23, Test Accuracy: 63.711667 %\n",
            "epoch: 23| 0/469  class_err: 0.0329  src_err: 0.6739  tgt_err: 0.7113\n",
            "epoch: 23| 234/469  class_err: 0.0515  src_err: 0.6860  tgt_err: 0.6809\n",
            "epoch: 23| 468/469  class_err: 0.1209  src_err: 0.6108  tgt_err: 0.7292\n",
            "\n",
            "2021-12-29 17:22:03.456541| Epoch: 24, Test Accuracy: 64.121667 %\n",
            "epoch: 24| 0/469  class_err: 0.0319  src_err: 0.4939  tgt_err: 0.7706\n",
            "epoch: 24| 234/469  class_err: 0.0991  src_err: 0.6602  tgt_err: 0.6675\n",
            "epoch: 24| 468/469  class_err: 0.1975  src_err: 0.7416  tgt_err: 0.6258\n",
            "\n",
            "2021-12-29 17:22:38.677493| Epoch: 25, Test Accuracy: 59.741667 %\n",
            "epoch: 25| 0/469  class_err: 0.1283  src_err: 0.7650  tgt_err: 0.5911\n",
            "epoch: 25| 234/469  class_err: 0.0788  src_err: 0.6861  tgt_err: 0.6467\n",
            "epoch: 25| 468/469  class_err: 0.1120  src_err: 0.6680  tgt_err: 0.7146\n",
            "\n",
            "2021-12-29 17:23:14.003351| Epoch: 26, Test Accuracy: 65.475000 %\n",
            "epoch: 26| 0/469  class_err: 0.0521  src_err: 0.6505  tgt_err: 0.6965\n",
            "epoch: 26| 234/469  class_err: 0.0470  src_err: 0.7038  tgt_err: 0.6619\n",
            "epoch: 26| 468/469  class_err: 0.1269  src_err: 0.8093  tgt_err: 0.6326\n",
            "\n",
            "2021-12-29 17:23:49.084774| Epoch: 27, Test Accuracy: 64.750000 %\n",
            "epoch: 27| 0/469  class_err: 0.0683  src_err: 0.5784  tgt_err: 0.8425\n",
            "epoch: 27| 234/469  class_err: 0.0267  src_err: 0.6735  tgt_err: 0.6359\n",
            "epoch: 27| 468/469  class_err: 0.2116  src_err: 0.3966  tgt_err: 0.5652\n",
            "\n",
            "2021-12-29 17:24:24.260194| Epoch: 28, Test Accuracy: 55.421667 %\n",
            "epoch: 28| 0/469  class_err: 0.1153  src_err: 0.5962  tgt_err: 0.3842\n",
            "epoch: 28| 234/469  class_err: 0.0164  src_err: 0.6382  tgt_err: 0.6560\n",
            "epoch: 28| 468/469  class_err: 0.1387  src_err: 0.6814  tgt_err: 0.7063\n",
            "\n",
            "2021-12-29 17:24:59.459195| Epoch: 29, Test Accuracy: 65.643333 %\n",
            "epoch: 29| 0/469  class_err: 0.0653  src_err: 0.6565  tgt_err: 0.6973\n",
            "epoch: 29| 234/469  class_err: 0.0394  src_err: 0.6428  tgt_err: 0.6620\n",
            "epoch: 29| 468/469  class_err: 0.1210  src_err: 0.7695  tgt_err: 0.6599\n",
            "\n",
            "2021-12-29 17:25:34.789343| Epoch: 30, Test Accuracy: 64.473333 %\n",
            "epoch: 30| 0/469  class_err: 0.0536  src_err: 0.6529  tgt_err: 0.6797\n",
            "epoch: 30| 234/469  class_err: 0.0753  src_err: 0.6608  tgt_err: 1.0239\n",
            "epoch: 30| 468/469  class_err: 0.1491  src_err: 0.5678  tgt_err: 0.7558\n",
            "\n",
            "2021-12-29 17:26:09.970122| Epoch: 31, Test Accuracy: 51.413333 %\n",
            "epoch: 31| 0/469  class_err: 0.0865  src_err: 0.6635  tgt_err: 0.6799\n",
            "epoch: 31| 234/469  class_err: 0.0302  src_err: 0.7091  tgt_err: 0.6662\n",
            "epoch: 31| 468/469  class_err: 0.1464  src_err: 0.8245  tgt_err: 0.6416\n",
            "\n",
            "2021-12-29 17:26:44.862359| Epoch: 32, Test Accuracy: 65.008333 %\n",
            "epoch: 32| 0/469  class_err: 0.0417  src_err: 0.7389  tgt_err: 0.6361\n",
            "epoch: 32| 234/469  class_err: 0.0190  src_err: 0.6927  tgt_err: 0.6638\n",
            "epoch: 32| 468/469  class_err: 0.1251  src_err: 0.7327  tgt_err: 0.6682\n",
            "\n",
            "2021-12-29 17:27:19.986752| Epoch: 33, Test Accuracy: 62.686667 %\n",
            "epoch: 33| 0/469  class_err: 0.0226  src_err: 0.7066  tgt_err: 0.6661\n",
            "epoch: 33| 234/469  class_err: 0.0676  src_err: 0.7064  tgt_err: 0.6772\n",
            "epoch: 33| 468/469  class_err: 0.1420  src_err: 0.6629  tgt_err: 0.7093\n",
            "\n",
            "2021-12-29 17:27:54.854283| Epoch: 34, Test Accuracy: 64.535000 %\n",
            "epoch: 34| 0/469  class_err: 0.0267  src_err: 0.6888  tgt_err: 0.6844\n",
            "epoch: 34| 234/469  class_err: 0.0665  src_err: 0.6902  tgt_err: 0.6449\n",
            "epoch: 34| 468/469  class_err: 0.1291  src_err: 0.7349  tgt_err: 0.6382\n",
            "\n",
            "2021-12-29 17:28:29.501996| Epoch: 35, Test Accuracy: 66.111667 %\n",
            "epoch: 35| 0/469  class_err: 0.0377  src_err: 0.7350  tgt_err: 0.6107\n",
            "epoch: 35| 234/469  class_err: 0.0856  src_err: 0.6580  tgt_err: 0.7001\n",
            "epoch: 35| 468/469  class_err: 0.1284  src_err: 0.6774  tgt_err: 0.7300\n",
            "\n",
            "2021-12-29 17:29:04.368334| Epoch: 36, Test Accuracy: 64.130000 %\n",
            "epoch: 36| 0/469  class_err: 0.0638  src_err: 0.6614  tgt_err: 0.6805\n",
            "epoch: 36| 234/469  class_err: 0.0408  src_err: 0.6273  tgt_err: 0.7147\n",
            "epoch: 36| 468/469  class_err: 0.1244  src_err: 0.6776  tgt_err: 0.6811\n",
            "\n",
            "2021-12-29 17:29:39.351146| Epoch: 37, Test Accuracy: 65.063333 %\n",
            "epoch: 37| 0/469  class_err: 0.0420  src_err: 0.7063  tgt_err: 0.6581\n",
            "epoch: 37| 234/469  class_err: 0.0504  src_err: 0.6221  tgt_err: 0.6856\n",
            "epoch: 37| 468/469  class_err: 0.1005  src_err: 0.6152  tgt_err: 0.7256\n",
            "\n",
            "2021-12-29 17:30:13.995563| Epoch: 38, Test Accuracy: 66.941667 %\n",
            "epoch: 38| 0/469  class_err: 0.0691  src_err: 0.6452  tgt_err: 0.6989\n",
            "epoch: 38| 234/469  class_err: 0.0506  src_err: 0.7104  tgt_err: 0.6426\n",
            "epoch: 38| 468/469  class_err: 0.1207  src_err: 0.6641  tgt_err: 0.6944\n",
            "\n",
            "2021-12-29 17:30:48.861113| Epoch: 39, Test Accuracy: 65.818333 %\n",
            "epoch: 39| 0/469  class_err: 0.0483  src_err: 0.6751  tgt_err: 0.6725\n",
            "epoch: 39| 234/469  class_err: 0.0197  src_err: 0.6565  tgt_err: 0.6910\n",
            "epoch: 39| 468/469  class_err: 0.1222  src_err: 0.6854  tgt_err: 0.6657\n",
            "\n",
            "2021-12-29 17:31:23.702132| Epoch: 40, Test Accuracy: 63.973333 %\n",
            "epoch: 40| 0/469  class_err: 0.0541  src_err: 0.7218  tgt_err: 0.6466\n",
            "epoch: 40| 234/469  class_err: 0.0574  src_err: 0.6273  tgt_err: 0.7131\n",
            "epoch: 40| 468/469  class_err: 0.1189  src_err: 0.8325  tgt_err: 0.5643\n",
            "\n",
            "2021-12-29 17:31:58.712983| Epoch: 41, Test Accuracy: 63.880000 %\n",
            "epoch: 41| 0/469  class_err: 0.0248  src_err: 0.8041  tgt_err: 0.5440\n",
            "epoch: 41| 234/469  class_err: 0.0848  src_err: 0.7158  tgt_err: 0.6699\n",
            "epoch: 41| 468/469  class_err: 0.1432  src_err: 0.6046  tgt_err: 0.7141\n",
            "\n",
            "2021-12-29 17:32:33.546300| Epoch: 42, Test Accuracy: 61.755000 %\n",
            "epoch: 42| 0/469  class_err: 0.0642  src_err: 0.6754  tgt_err: 0.6699\n",
            "epoch: 42| 234/469  class_err: 0.0287  src_err: 0.7437  tgt_err: 0.6480\n",
            "epoch: 42| 468/469  class_err: 0.1217  src_err: 0.6434  tgt_err: 0.6964\n",
            "\n",
            "2021-12-29 17:33:08.161317| Epoch: 43, Test Accuracy: 61.166667 %\n",
            "epoch: 43| 0/469  class_err: 0.0666  src_err: 0.6918  tgt_err: 0.6846\n",
            "epoch: 43| 234/469  class_err: 0.0386  src_err: 0.7508  tgt_err: 0.6112\n",
            "epoch: 43| 468/469  class_err: 0.0815  src_err: 0.6961  tgt_err: 0.6745\n",
            "\n",
            "2021-12-29 17:33:42.881895| Epoch: 44, Test Accuracy: 67.110000 %\n",
            "epoch: 44| 0/469  class_err: 0.0451  src_err: 0.6872  tgt_err: 0.6901\n",
            "epoch: 44| 234/469  class_err: 0.0186  src_err: 0.6683  tgt_err: 0.6947\n",
            "epoch: 44| 468/469  class_err: 0.0857  src_err: 0.6901  tgt_err: 0.6779\n",
            "\n",
            "2021-12-29 17:34:17.718106| Epoch: 45, Test Accuracy: 67.905000 %\n",
            "epoch: 45| 0/469  class_err: 0.0686  src_err: 0.7170  tgt_err: 0.6648\n",
            "epoch: 45| 234/469  class_err: 0.0622  src_err: 0.7426  tgt_err: 0.6814\n",
            "epoch: 45| 468/469  class_err: 0.1264  src_err: 0.6751  tgt_err: 0.6776\n",
            "\n",
            "2021-12-29 17:34:52.570045| Epoch: 46, Test Accuracy: 61.708333 %\n",
            "epoch: 46| 0/469  class_err: 0.0483  src_err: 0.6995  tgt_err: 0.6722\n",
            "epoch: 46| 234/469  class_err: 0.0141  src_err: 0.6187  tgt_err: 0.7625\n",
            "epoch: 46| 468/469  class_err: 0.0824  src_err: 0.6391  tgt_err: 0.7140\n",
            "\n",
            "2021-12-29 17:35:27.131488| Epoch: 47, Test Accuracy: 67.891667 %\n",
            "epoch: 47| 0/469  class_err: 0.0759  src_err: 0.7039  tgt_err: 0.6733\n",
            "epoch: 47| 234/469  class_err: 0.0265  src_err: 0.6075  tgt_err: 0.6741\n",
            "epoch: 47| 468/469  class_err: 0.1264  src_err: 0.6342  tgt_err: 0.6819\n",
            "\n",
            "2021-12-29 17:36:01.416298| Epoch: 48, Test Accuracy: 65.076667 %\n",
            "epoch: 48| 0/469  class_err: 0.0502  src_err: 0.6608  tgt_err: 0.6692\n",
            "epoch: 48| 234/469  class_err: 0.0487  src_err: 0.7941  tgt_err: 0.5032\n",
            "epoch: 48| 468/469  class_err: 0.1034  src_err: 0.6506  tgt_err: 0.7167\n",
            "\n",
            "2021-12-29 17:36:35.723824| Epoch: 49, Test Accuracy: 64.885000 %\n",
            "epoch: 49| 0/469  class_err: 0.0669  src_err: 0.6816  tgt_err: 0.6964\n",
            "epoch: 49| 234/469  class_err: 0.0616  src_err: 0.6374  tgt_err: 0.7740\n",
            "epoch: 49| 468/469  class_err: 0.0598  src_err: 0.7867  tgt_err: 0.2360\n",
            "\n",
            "2021-12-29 17:37:10.519441| Epoch: 50, Test Accuracy: 57.220000 %\n"
          ]
        }
      ]
    },
    {
      "cell_type": "code",
      "source": [
        "def test(model,target_trainloader):\n",
        "     \n",
        "        # self.model.load_state_dict(torch.load('./best_dann.pth'))\n",
        "        \n",
        "        model.eval()\n",
        "        total = 0\n",
        "        correct = 0\n",
        "        with torch.no_grad():\n",
        "          for i, tgt_data in enumerate(target_trainloader):\n",
        "            \n",
        "              tgt_image, tgt_label = tgt_data\n",
        "              tgt_image = tgt_image.cuda()\n",
        "              tgt_image = Variable(tgt_image)\n",
        "\n",
        "              class_out, _ = model(tgt_image)\n",
        "              \n",
        "              _, predicted = torch.max(class_out.data, 1)\n",
        "              total += tgt_label.size(0)\n",
        "              correct += ((predicted == tgt_label.cuda()).sum())\n",
        "              # for j in range(10):\n",
        "              #   plt.imshow(tgt_image[j].squeeze(0).permute(1,2,0).cpu().numpy())\n",
        "              #   plt.title('%i %i' % (tgt_label[j],predicted[j]))\n",
        "              #   plt.show()\n",
        "\n",
        "\n",
        "        test_acc = 100*float(correct)/total\n",
        "        print('%s| Test Accuracy: %f %%' % (datetime.datetime.now(), test_acc))\n",
        "\n",
        "        return test_acc\n"
      ],
      "metadata": {
        "id": "DLpXKU_zGtU2"
      },
      "execution_count": 32,
      "outputs": []
    },
    {
      "cell_type": "code",
      "source": [
        "len(test_mdataloader)"
      ],
      "metadata": {
        "colab": {
          "base_uri": "https://localhost:8080/"
        },
        "id": "zDHHLajbLuLG",
        "outputId": "477359f7-975d-4f3c-a378-cd0fc6ea8cad"
      },
      "execution_count": 33,
      "outputs": [
        {
          "output_type": "execute_result",
          "data": {
            "text/plain": [
              "79"
            ]
          },
          "metadata": {},
          "execution_count": 33
        }
      ]
    },
    {
      "cell_type": "code",
      "source": [
        "test(da.model,train_mdataloader)"
      ],
      "metadata": {
        "colab": {
          "base_uri": "https://localhost:8080/"
        },
        "id": "jD7660Y-Hvq2",
        "outputId": "7d7dd45f-6da3-47c6-ac9f-a19ff813269e"
      },
      "execution_count": 35,
      "outputs": [
        {
          "output_type": "stream",
          "name": "stdout",
          "text": [
            "2021-12-29 17:43:58.028493| Test Accuracy: 57.220000 %\n"
          ]
        },
        {
          "output_type": "execute_result",
          "data": {
            "text/plain": [
              "57.22"
            ]
          },
          "metadata": {},
          "execution_count": 35
        }
      ]
    },
    {
      "cell_type": "code",
      "source": [
        ""
      ],
      "metadata": {
        "id": "6vRaGt1oHzBw"
      },
      "execution_count": null,
      "outputs": []
    }
  ]
}